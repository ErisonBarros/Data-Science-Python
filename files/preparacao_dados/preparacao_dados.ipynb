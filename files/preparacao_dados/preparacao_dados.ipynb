{
  "nbformat": 4,
  "nbformat_minor": 0,
  "metadata": {
    "colab": {
      "name": "preparacao_dados.ipynb",
      "provenance": []
    },
    "kernelspec": {
      "name": "python3",
      "display_name": "Python 3"
    },
    "language_info": {
      "name": "python"
    }
  },
  "cells": [
    {
      "cell_type": "markdown",
      "metadata": {
        "id": "NIZffcFbxRxt"
      },
      "source": [
        "# Importação de Bibliotecas necessárias"
      ]
    },
    {
      "cell_type": "code",
      "metadata": {
        "id": "mWZLMz1v6fOh"
      },
      "source": [
        "import pandas as pd\n",
        "import numpy as np\n",
        "import seaborn as sns\n",
        "import matplotlib as plot\n",
        "import plotly.express as px\n",
        "import matplotlib.pyplot as plt\n",
        "import missingno as msno\n",
        "from sklearn.preprocessing import StandardScaler\n",
        "from sklearn.model_selection import train_test_split\n",
        "from sklearn.decomposition import PCA"
      ],
      "execution_count": 22,
      "outputs": []
    },
    {
      "cell_type": "code",
      "metadata": {
        "id": "Fkbj0x4v6tCw"
      },
      "source": [
        "pd.set_option('display.max_columns', None)\n",
        "#pd.set_option('display.max_rows', None)"
      ],
      "execution_count": 23,
      "outputs": []
    },
    {
      "cell_type": "code",
      "metadata": {
        "id": "e7xo0H5JJ51S"
      },
      "source": [
        "df.to_csv('df.csv')"
      ],
      "execution_count": 54,
      "outputs": []
    },
    {
      "cell_type": "code",
      "metadata": {
        "id": "znL-6iIsJ_m5"
      },
      "source": [
        "df = pd.read_csv('df.csv')"
      ],
      "execution_count": 55,
      "outputs": []
    },
    {
      "cell_type": "code",
      "metadata": {
        "colab": {
          "base_uri": "https://localhost:8080/",
          "height": 240
        },
        "id": "vLGmEoyhk1H9",
        "outputId": "20a43075-df01-497c-a687-66d3b0b88653"
      },
      "source": [
        "df.head()"
      ],
      "execution_count": 56,
      "outputs": [
        {
          "output_type": "execute_result",
          "data": {
            "text/html": [
              "<div>\n",
              "<style scoped>\n",
              "    .dataframe tbody tr th:only-of-type {\n",
              "        vertical-align: middle;\n",
              "    }\n",
              "\n",
              "    .dataframe tbody tr th {\n",
              "        vertical-align: top;\n",
              "    }\n",
              "\n",
              "    .dataframe thead th {\n",
              "        text-align: right;\n",
              "    }\n",
              "</style>\n",
              "<table border=\"1\" class=\"dataframe\">\n",
              "  <thead>\n",
              "    <tr style=\"text-align: right;\">\n",
              "      <th></th>\n",
              "      <th>Unnamed: 0</th>\n",
              "      <th>risco_credito</th>\n",
              "      <th>saldo_conta</th>\n",
              "      <th>idade</th>\n",
              "      <th>tem_filhos</th>\n",
              "      <th>risco</th>\n",
              "      <th>n_contratos</th>\n",
              "      <th>banco</th>\n",
              "      <th>taxa_emprestimo</th>\n",
              "      <th>valor_contratado</th>\n",
              "      <th>lucro_esperado</th>\n",
              "      <th>data</th>\n",
              "      <th>n_dependentes</th>\n",
              "    </tr>\n",
              "  </thead>\n",
              "  <tbody>\n",
              "    <tr>\n",
              "      <th>0</th>\n",
              "      <td>0</td>\n",
              "      <td>0.874979</td>\n",
              "      <td>7731.0</td>\n",
              "      <td>31</td>\n",
              "      <td>S</td>\n",
              "      <td>Médio</td>\n",
              "      <td>NaN</td>\n",
              "      <td>A</td>\n",
              "      <td>0.740928</td>\n",
              "      <td>101.449573</td>\n",
              "      <td>70.422349</td>\n",
              "      <td>2021/09/09</td>\n",
              "      <td>0</td>\n",
              "    </tr>\n",
              "    <tr>\n",
              "      <th>1</th>\n",
              "      <td>1</td>\n",
              "      <td>0.909962</td>\n",
              "      <td>NaN</td>\n",
              "      <td>78</td>\n",
              "      <td>S</td>\n",
              "      <td>Alto</td>\n",
              "      <td>NaN</td>\n",
              "      <td>D</td>\n",
              "      <td>0.373933</td>\n",
              "      <td>80.963989</td>\n",
              "      <td>69.014723</td>\n",
              "      <td>2020/11/07</td>\n",
              "      <td>2</td>\n",
              "    </tr>\n",
              "    <tr>\n",
              "      <th>2</th>\n",
              "      <td>2</td>\n",
              "      <td>0.223025</td>\n",
              "      <td>1049.0</td>\n",
              "      <td>54</td>\n",
              "      <td>S</td>\n",
              "      <td>Baixo</td>\n",
              "      <td>NaN</td>\n",
              "      <td>B</td>\n",
              "      <td>0.202436</td>\n",
              "      <td>8.649433</td>\n",
              "      <td>8.112917</td>\n",
              "      <td>2020/07/16</td>\n",
              "      <td>1</td>\n",
              "    </tr>\n",
              "    <tr>\n",
              "      <th>3</th>\n",
              "      <td>3</td>\n",
              "      <td>0.054422</td>\n",
              "      <td>5654.0</td>\n",
              "      <td>77</td>\n",
              "      <td>S</td>\n",
              "      <td>Médio</td>\n",
              "      <td>NaN</td>\n",
              "      <td>A</td>\n",
              "      <td>0.015751</td>\n",
              "      <td>7.297510</td>\n",
              "      <td>6.190525</td>\n",
              "      <td>2021/05/12</td>\n",
              "      <td>0</td>\n",
              "    </tr>\n",
              "    <tr>\n",
              "      <th>4</th>\n",
              "      <td>4</td>\n",
              "      <td>0.843362</td>\n",
              "      <td>3585.0</td>\n",
              "      <td>55</td>\n",
              "      <td>S</td>\n",
              "      <td>Baixo</td>\n",
              "      <td>NaN</td>\n",
              "      <td>B</td>\n",
              "      <td>0.184674</td>\n",
              "      <td>89.795502</td>\n",
              "      <td>21.981938</td>\n",
              "      <td>2020/09/26</td>\n",
              "      <td>2</td>\n",
              "    </tr>\n",
              "  </tbody>\n",
              "</table>\n",
              "</div>"
            ],
            "text/plain": [
              "   Unnamed: 0  risco_credito  saldo_conta  idade tem_filhos  risco  \\\n",
              "0           0       0.874979       7731.0     31          S  Médio   \n",
              "1           1       0.909962          NaN     78          S   Alto   \n",
              "2           2       0.223025       1049.0     54          S  Baixo   \n",
              "3           3       0.054422       5654.0     77          S  Médio   \n",
              "4           4       0.843362       3585.0     55          S  Baixo   \n",
              "\n",
              "   n_contratos banco  taxa_emprestimo  valor_contratado  lucro_esperado  \\\n",
              "0          NaN     A         0.740928        101.449573       70.422349   \n",
              "1          NaN     D         0.373933         80.963989       69.014723   \n",
              "2          NaN     B         0.202436          8.649433        8.112917   \n",
              "3          NaN     A         0.015751          7.297510        6.190525   \n",
              "4          NaN     B         0.184674         89.795502       21.981938   \n",
              "\n",
              "         data  n_dependentes  \n",
              "0  2021/09/09              0  \n",
              "1  2020/11/07              2  \n",
              "2  2020/07/16              1  \n",
              "3  2021/05/12              0  \n",
              "4  2020/09/26              2  "
            ]
          },
          "metadata": {
            "tags": []
          },
          "execution_count": 56
        }
      ]
    },
    {
      "cell_type": "code",
      "metadata": {
        "colab": {
          "base_uri": "https://localhost:8080/"
        },
        "id": "tkPdMpipIzXa",
        "outputId": "540b5bc4-0f41-434d-c4a3-99419e8d3c62"
      },
      "source": [
        "df.info()"
      ],
      "execution_count": 57,
      "outputs": [
        {
          "output_type": "stream",
          "text": [
            "<class 'pandas.core.frame.DataFrame'>\n",
            "RangeIndex: 10000 entries, 0 to 9999\n",
            "Data columns (total 13 columns):\n",
            " #   Column            Non-Null Count  Dtype  \n",
            "---  ------            --------------  -----  \n",
            " 0   Unnamed: 0        10000 non-null  int64  \n",
            " 1   risco_credito     10000 non-null  float64\n",
            " 2   saldo_conta       4995 non-null   float64\n",
            " 3   idade             10000 non-null  int64  \n",
            " 4   tem_filhos        10000 non-null  object \n",
            " 5   risco             10000 non-null  object \n",
            " 6   n_contratos       2006 non-null   float64\n",
            " 7   banco             10000 non-null  object \n",
            " 8   taxa_emprestimo   10000 non-null  float64\n",
            " 9   valor_contratado  10000 non-null  float64\n",
            " 10  lucro_esperado    10000 non-null  float64\n",
            " 11  data              10000 non-null  object \n",
            " 12  n_dependentes     10000 non-null  int64  \n",
            "dtypes: float64(6), int64(3), object(4)\n",
            "memory usage: 1015.8+ KB\n"
          ],
          "name": "stdout"
        }
      ]
    },
    {
      "cell_type": "code",
      "metadata": {
        "id": "UFnIizK_vR_G"
      },
      "source": [
        "df['data'] = pd.to_datetime(df['data'],infer_datetime_format=True)"
      ],
      "execution_count": 58,
      "outputs": []
    },
    {
      "cell_type": "markdown",
      "metadata": {
        "id": "oHvO3C7orNv0"
      },
      "source": [
        "# Análise de dados"
      ]
    },
    {
      "cell_type": "code",
      "metadata": {
        "id": "LwmxNFvp7s15",
        "colab": {
          "base_uri": "https://localhost:8080/"
        },
        "outputId": "be678b35-f4cf-4e0f-e360-fc7f888b1172"
      },
      "source": [
        "# Verificação dos tipos de variáveis\n",
        "df.info()"
      ],
      "execution_count": 59,
      "outputs": [
        {
          "output_type": "stream",
          "text": [
            "<class 'pandas.core.frame.DataFrame'>\n",
            "RangeIndex: 10000 entries, 0 to 9999\n",
            "Data columns (total 13 columns):\n",
            " #   Column            Non-Null Count  Dtype         \n",
            "---  ------            --------------  -----         \n",
            " 0   Unnamed: 0        10000 non-null  int64         \n",
            " 1   risco_credito     10000 non-null  float64       \n",
            " 2   saldo_conta       4995 non-null   float64       \n",
            " 3   idade             10000 non-null  int64         \n",
            " 4   tem_filhos        10000 non-null  object        \n",
            " 5   risco             10000 non-null  object        \n",
            " 6   n_contratos       2006 non-null   float64       \n",
            " 7   banco             10000 non-null  object        \n",
            " 8   taxa_emprestimo   10000 non-null  float64       \n",
            " 9   valor_contratado  10000 non-null  float64       \n",
            " 10  lucro_esperado    10000 non-null  float64       \n",
            " 11  data              10000 non-null  datetime64[ns]\n",
            " 12  n_dependentes     10000 non-null  int64         \n",
            "dtypes: datetime64[ns](1), float64(6), int64(3), object(3)\n",
            "memory usage: 1015.8+ KB\n"
          ],
          "name": "stdout"
        }
      ]
    },
    {
      "cell_type": "code",
      "metadata": {
        "id": "Srj9us9yrPhs",
        "colab": {
          "base_uri": "https://localhost:8080/",
          "height": 326
        },
        "outputId": "3ed4aa58-d5c0-49ad-e8df-0a233af6df1c"
      },
      "source": [
        "# Verificação da correlação \n",
        "df.corr()"
      ],
      "execution_count": 60,
      "outputs": [
        {
          "output_type": "execute_result",
          "data": {
            "text/html": [
              "<div>\n",
              "<style scoped>\n",
              "    .dataframe tbody tr th:only-of-type {\n",
              "        vertical-align: middle;\n",
              "    }\n",
              "\n",
              "    .dataframe tbody tr th {\n",
              "        vertical-align: top;\n",
              "    }\n",
              "\n",
              "    .dataframe thead th {\n",
              "        text-align: right;\n",
              "    }\n",
              "</style>\n",
              "<table border=\"1\" class=\"dataframe\">\n",
              "  <thead>\n",
              "    <tr style=\"text-align: right;\">\n",
              "      <th></th>\n",
              "      <th>Unnamed: 0</th>\n",
              "      <th>risco_credito</th>\n",
              "      <th>saldo_conta</th>\n",
              "      <th>idade</th>\n",
              "      <th>n_contratos</th>\n",
              "      <th>taxa_emprestimo</th>\n",
              "      <th>valor_contratado</th>\n",
              "      <th>lucro_esperado</th>\n",
              "      <th>n_dependentes</th>\n",
              "    </tr>\n",
              "  </thead>\n",
              "  <tbody>\n",
              "    <tr>\n",
              "      <th>Unnamed: 0</th>\n",
              "      <td>1.000000</td>\n",
              "      <td>-0.000750</td>\n",
              "      <td>-0.012842</td>\n",
              "      <td>-0.013764</td>\n",
              "      <td>-0.018372</td>\n",
              "      <td>0.002434</td>\n",
              "      <td>0.006351</td>\n",
              "      <td>0.007682</td>\n",
              "      <td>0.004970</td>\n",
              "    </tr>\n",
              "    <tr>\n",
              "      <th>risco_credito</th>\n",
              "      <td>-0.000750</td>\n",
              "      <td>1.000000</td>\n",
              "      <td>0.002972</td>\n",
              "      <td>-0.025115</td>\n",
              "      <td>0.023423</td>\n",
              "      <td>0.646782</td>\n",
              "      <td>0.945877</td>\n",
              "      <td>0.663272</td>\n",
              "      <td>0.008796</td>\n",
              "    </tr>\n",
              "    <tr>\n",
              "      <th>saldo_conta</th>\n",
              "      <td>-0.012842</td>\n",
              "      <td>0.002972</td>\n",
              "      <td>1.000000</td>\n",
              "      <td>-0.012684</td>\n",
              "      <td>0.003070</td>\n",
              "      <td>0.025647</td>\n",
              "      <td>0.007412</td>\n",
              "      <td>0.004410</td>\n",
              "      <td>-0.016667</td>\n",
              "    </tr>\n",
              "    <tr>\n",
              "      <th>idade</th>\n",
              "      <td>-0.013764</td>\n",
              "      <td>-0.025115</td>\n",
              "      <td>-0.012684</td>\n",
              "      <td>1.000000</td>\n",
              "      <td>0.007933</td>\n",
              "      <td>-0.014952</td>\n",
              "      <td>-0.027118</td>\n",
              "      <td>-0.021932</td>\n",
              "      <td>-0.004548</td>\n",
              "    </tr>\n",
              "    <tr>\n",
              "      <th>n_contratos</th>\n",
              "      <td>-0.018372</td>\n",
              "      <td>0.023423</td>\n",
              "      <td>0.003070</td>\n",
              "      <td>0.007933</td>\n",
              "      <td>1.000000</td>\n",
              "      <td>-0.008569</td>\n",
              "      <td>0.009999</td>\n",
              "      <td>0.005091</td>\n",
              "      <td>-0.004263</td>\n",
              "    </tr>\n",
              "    <tr>\n",
              "      <th>taxa_emprestimo</th>\n",
              "      <td>0.002434</td>\n",
              "      <td>0.646782</td>\n",
              "      <td>0.025647</td>\n",
              "      <td>-0.014952</td>\n",
              "      <td>-0.008569</td>\n",
              "      <td>1.000000</td>\n",
              "      <td>0.609992</td>\n",
              "      <td>0.409190</td>\n",
              "      <td>0.004549</td>\n",
              "    </tr>\n",
              "    <tr>\n",
              "      <th>valor_contratado</th>\n",
              "      <td>0.006351</td>\n",
              "      <td>0.945877</td>\n",
              "      <td>0.007412</td>\n",
              "      <td>-0.027118</td>\n",
              "      <td>0.009999</td>\n",
              "      <td>0.609992</td>\n",
              "      <td>1.000000</td>\n",
              "      <td>0.699454</td>\n",
              "      <td>0.002615</td>\n",
              "    </tr>\n",
              "    <tr>\n",
              "      <th>lucro_esperado</th>\n",
              "      <td>0.007682</td>\n",
              "      <td>0.663272</td>\n",
              "      <td>0.004410</td>\n",
              "      <td>-0.021932</td>\n",
              "      <td>0.005091</td>\n",
              "      <td>0.409190</td>\n",
              "      <td>0.699454</td>\n",
              "      <td>1.000000</td>\n",
              "      <td>-0.001306</td>\n",
              "    </tr>\n",
              "    <tr>\n",
              "      <th>n_dependentes</th>\n",
              "      <td>0.004970</td>\n",
              "      <td>0.008796</td>\n",
              "      <td>-0.016667</td>\n",
              "      <td>-0.004548</td>\n",
              "      <td>-0.004263</td>\n",
              "      <td>0.004549</td>\n",
              "      <td>0.002615</td>\n",
              "      <td>-0.001306</td>\n",
              "      <td>1.000000</td>\n",
              "    </tr>\n",
              "  </tbody>\n",
              "</table>\n",
              "</div>"
            ],
            "text/plain": [
              "                  Unnamed: 0  risco_credito  saldo_conta     idade  \\\n",
              "Unnamed: 0          1.000000      -0.000750    -0.012842 -0.013764   \n",
              "risco_credito      -0.000750       1.000000     0.002972 -0.025115   \n",
              "saldo_conta        -0.012842       0.002972     1.000000 -0.012684   \n",
              "idade              -0.013764      -0.025115    -0.012684  1.000000   \n",
              "n_contratos        -0.018372       0.023423     0.003070  0.007933   \n",
              "taxa_emprestimo     0.002434       0.646782     0.025647 -0.014952   \n",
              "valor_contratado    0.006351       0.945877     0.007412 -0.027118   \n",
              "lucro_esperado      0.007682       0.663272     0.004410 -0.021932   \n",
              "n_dependentes       0.004970       0.008796    -0.016667 -0.004548   \n",
              "\n",
              "                  n_contratos  taxa_emprestimo  valor_contratado  \\\n",
              "Unnamed: 0          -0.018372         0.002434          0.006351   \n",
              "risco_credito        0.023423         0.646782          0.945877   \n",
              "saldo_conta          0.003070         0.025647          0.007412   \n",
              "idade                0.007933        -0.014952         -0.027118   \n",
              "n_contratos          1.000000        -0.008569          0.009999   \n",
              "taxa_emprestimo     -0.008569         1.000000          0.609992   \n",
              "valor_contratado     0.009999         0.609992          1.000000   \n",
              "lucro_esperado       0.005091         0.409190          0.699454   \n",
              "n_dependentes       -0.004263         0.004549          0.002615   \n",
              "\n",
              "                  lucro_esperado  n_dependentes  \n",
              "Unnamed: 0              0.007682       0.004970  \n",
              "risco_credito           0.663272       0.008796  \n",
              "saldo_conta             0.004410      -0.016667  \n",
              "idade                  -0.021932      -0.004548  \n",
              "n_contratos             0.005091      -0.004263  \n",
              "taxa_emprestimo         0.409190       0.004549  \n",
              "valor_contratado        0.699454       0.002615  \n",
              "lucro_esperado          1.000000      -0.001306  \n",
              "n_dependentes          -0.001306       1.000000  "
            ]
          },
          "metadata": {
            "tags": []
          },
          "execution_count": 60
        }
      ]
    },
    {
      "cell_type": "code",
      "metadata": {
        "id": "0KYWoYAqrUwN",
        "colab": {
          "base_uri": "https://localhost:8080/",
          "height": 295
        },
        "outputId": "4bf69468-197a-4d76-8a04-ce7f12b146d0"
      },
      "source": [
        "# Análise descritiva\n",
        "df.describe()"
      ],
      "execution_count": 61,
      "outputs": [
        {
          "output_type": "execute_result",
          "data": {
            "text/html": [
              "<div>\n",
              "<style scoped>\n",
              "    .dataframe tbody tr th:only-of-type {\n",
              "        vertical-align: middle;\n",
              "    }\n",
              "\n",
              "    .dataframe tbody tr th {\n",
              "        vertical-align: top;\n",
              "    }\n",
              "\n",
              "    .dataframe thead th {\n",
              "        text-align: right;\n",
              "    }\n",
              "</style>\n",
              "<table border=\"1\" class=\"dataframe\">\n",
              "  <thead>\n",
              "    <tr style=\"text-align: right;\">\n",
              "      <th></th>\n",
              "      <th>Unnamed: 0</th>\n",
              "      <th>risco_credito</th>\n",
              "      <th>saldo_conta</th>\n",
              "      <th>idade</th>\n",
              "      <th>n_contratos</th>\n",
              "      <th>taxa_emprestimo</th>\n",
              "      <th>valor_contratado</th>\n",
              "      <th>lucro_esperado</th>\n",
              "      <th>n_dependentes</th>\n",
              "    </tr>\n",
              "  </thead>\n",
              "  <tbody>\n",
              "    <tr>\n",
              "      <th>count</th>\n",
              "      <td>10000.00000</td>\n",
              "      <td>10000.000000</td>\n",
              "      <td>4995.000000</td>\n",
              "      <td>10000.000000</td>\n",
              "      <td>2006.000000</td>\n",
              "      <td>1.000000e+04</td>\n",
              "      <td>10000.000000</td>\n",
              "      <td>10000.000000</td>\n",
              "      <td>10000.000000</td>\n",
              "    </tr>\n",
              "    <tr>\n",
              "      <th>mean</th>\n",
              "      <td>4999.50000</td>\n",
              "      <td>0.499660</td>\n",
              "      <td>4973.289690</td>\n",
              "      <td>59.450000</td>\n",
              "      <td>2.011466</td>\n",
              "      <td>2.500387e-01</td>\n",
              "      <td>49.980632</td>\n",
              "      <td>27.356409</td>\n",
              "      <td>0.570700</td>\n",
              "    </tr>\n",
              "    <tr>\n",
              "      <th>std</th>\n",
              "      <td>2886.89568</td>\n",
              "      <td>0.288547</td>\n",
              "      <td>2884.329685</td>\n",
              "      <td>20.271132</td>\n",
              "      <td>0.985363</td>\n",
              "      <td>2.201820e-01</td>\n",
              "      <td>30.644613</td>\n",
              "      <td>21.842387</td>\n",
              "      <td>0.964518</td>\n",
              "    </tr>\n",
              "    <tr>\n",
              "      <th>min</th>\n",
              "      <td>0.00000</td>\n",
              "      <td>0.000239</td>\n",
              "      <td>1.000000</td>\n",
              "      <td>-119.000000</td>\n",
              "      <td>1.000000</td>\n",
              "      <td>4.977604e-07</td>\n",
              "      <td>-28.751305</td>\n",
              "      <td>-17.362120</td>\n",
              "      <td>0.000000</td>\n",
              "    </tr>\n",
              "    <tr>\n",
              "      <th>25%</th>\n",
              "      <td>2499.75000</td>\n",
              "      <td>0.248923</td>\n",
              "      <td>2490.500000</td>\n",
              "      <td>52.000000</td>\n",
              "      <td>1.000000</td>\n",
              "      <td>6.795425e-02</td>\n",
              "      <td>25.018997</td>\n",
              "      <td>10.025577</td>\n",
              "      <td>0.000000</td>\n",
              "    </tr>\n",
              "    <tr>\n",
              "      <th>50%</th>\n",
              "      <td>4999.50000</td>\n",
              "      <td>0.498612</td>\n",
              "      <td>4948.000000</td>\n",
              "      <td>66.000000</td>\n",
              "      <td>2.000000</td>\n",
              "      <td>1.853860e-01</td>\n",
              "      <td>49.953127</td>\n",
              "      <td>21.484542</td>\n",
              "      <td>0.000000</td>\n",
              "    </tr>\n",
              "    <tr>\n",
              "      <th>75%</th>\n",
              "      <td>7499.25000</td>\n",
              "      <td>0.749834</td>\n",
              "      <td>7440.500000</td>\n",
              "      <td>74.000000</td>\n",
              "      <td>3.000000</td>\n",
              "      <td>3.817788e-01</td>\n",
              "      <td>74.790611</td>\n",
              "      <td>39.754470</td>\n",
              "      <td>1.000000</td>\n",
              "    </tr>\n",
              "    <tr>\n",
              "      <th>max</th>\n",
              "      <td>9999.00000</td>\n",
              "      <td>0.999993</td>\n",
              "      <td>9999.000000</td>\n",
              "      <td>79.000000</td>\n",
              "      <td>6.000000</td>\n",
              "      <td>9.877480e-01</td>\n",
              "      <td>133.809238</td>\n",
              "      <td>125.553082</td>\n",
              "      <td>10.000000</td>\n",
              "    </tr>\n",
              "  </tbody>\n",
              "</table>\n",
              "</div>"
            ],
            "text/plain": [
              "        Unnamed: 0  risco_credito  saldo_conta         idade  n_contratos  \\\n",
              "count  10000.00000   10000.000000  4995.000000  10000.000000  2006.000000   \n",
              "mean    4999.50000       0.499660  4973.289690     59.450000     2.011466   \n",
              "std     2886.89568       0.288547  2884.329685     20.271132     0.985363   \n",
              "min        0.00000       0.000239     1.000000   -119.000000     1.000000   \n",
              "25%     2499.75000       0.248923  2490.500000     52.000000     1.000000   \n",
              "50%     4999.50000       0.498612  4948.000000     66.000000     2.000000   \n",
              "75%     7499.25000       0.749834  7440.500000     74.000000     3.000000   \n",
              "max     9999.00000       0.999993  9999.000000     79.000000     6.000000   \n",
              "\n",
              "       taxa_emprestimo  valor_contratado  lucro_esperado  n_dependentes  \n",
              "count     1.000000e+04      10000.000000    10000.000000   10000.000000  \n",
              "mean      2.500387e-01         49.980632       27.356409       0.570700  \n",
              "std       2.201820e-01         30.644613       21.842387       0.964518  \n",
              "min       4.977604e-07        -28.751305      -17.362120       0.000000  \n",
              "25%       6.795425e-02         25.018997       10.025577       0.000000  \n",
              "50%       1.853860e-01         49.953127       21.484542       0.000000  \n",
              "75%       3.817788e-01         74.790611       39.754470       1.000000  \n",
              "max       9.877480e-01        133.809238      125.553082      10.000000  "
            ]
          },
          "metadata": {
            "tags": []
          },
          "execution_count": 61
        }
      ]
    },
    {
      "cell_type": "code",
      "metadata": {
        "id": "kSFV1vkXrgAC",
        "colab": {
          "base_uri": "https://localhost:8080/",
          "height": 265
        },
        "outputId": "9ccd8d48-6502-44ff-9863-0a6aedd754b3"
      },
      "source": [
        "# Histograma da variável \"N_contratos\" \n",
        "plt.hist(x = df['n_contratos']);"
      ],
      "execution_count": 62,
      "outputs": [
        {
          "output_type": "display_data",
          "data": {
            "image/png": "[encoded data removed]",
            "text/plain": [
              "<Figure size 432x288 with 1 Axes>"
            ]
          },
          "metadata": {
            "tags": [],
            "needs_background": "light"
          }
        }
      ]
    },
    {
      "cell_type": "markdown",
      "metadata": {
        "id": "HngQ5Rb1wotq"
      },
      "source": [
        "# Transformação de Variáveis"
      ]
    },
    {
      "cell_type": "code",
      "metadata": {
        "colab": {
          "base_uri": "https://localhost:8080/"
        },
        "id": "se6QKRALNnQc",
        "outputId": "b5f3db01-d67a-4eac-c7ac-80c5f3a7adc0"
      },
      "source": [
        "df['data'].head()"
      ],
      "execution_count": 63,
      "outputs": [
        {
          "output_type": "execute_result",
          "data": {
            "text/plain": [
              "0   2021-09-09\n",
              "1   2020-11-07\n",
              "2   2020-07-16\n",
              "3   2021-05-12\n",
              "4   2020-09-26\n",
              "Name: data, dtype: datetime64[ns]"
            ]
          },
          "metadata": {
            "tags": []
          },
          "execution_count": 63
        }
      ]
    },
    {
      "cell_type": "code",
      "metadata": {
        "id": "OlYVe6BhNSGf",
        "colab": {
          "base_uri": "https://localhost:8080/"
        },
        "outputId": "ee791620-d24d-4b5f-e2aa-bb857eceaa28"
      },
      "source": [
        "pd.to_datetime(df['data'],infer_datetime_format=True )"
      ],
      "execution_count": 64,
      "outputs": [
        {
          "output_type": "execute_result",
          "data": {
            "text/plain": [
              "0      2021-09-09\n",
              "1      2020-11-07\n",
              "2      2020-07-16\n",
              "3      2021-05-12\n",
              "4      2020-09-26\n",
              "          ...    \n",
              "9995   2021-12-22\n",
              "9996   2021-03-25\n",
              "9997   2020-08-09\n",
              "9998   2020-05-08\n",
              "9999   2021-05-17\n",
              "Name: data, Length: 10000, dtype: datetime64[ns]"
            ]
          },
          "metadata": {
            "tags": []
          },
          "execution_count": 64
        }
      ]
    },
    {
      "cell_type": "markdown",
      "metadata": {
        "id": "CxM7UL1iqO0q"
      },
      "source": [
        "# Tratamento de Variáveis Categóricas"
      ]
    },
    {
      "cell_type": "code",
      "metadata": {
        "id": "WYMRy4faooq9"
      },
      "source": [
        "# Utilizando label enconder\n",
        "df.loc[df['tem_filhos'] == 'S', 'tem_filhos'] = 1\n",
        "df.loc[df['tem_filhos'] == 'N', 'tem_filhos'] = 0"
      ],
      "execution_count": 65,
      "outputs": []
    },
    {
      "cell_type": "code",
      "metadata": {
        "id": "pSSgaMaIQIEg"
      },
      "source": [
        "# Utilizando label enconder\n",
        "df.loc[df['risco'] == 'Alto', 'risco'] = 3\n",
        "df.loc[df['risco'] == 'Baixo', 'risco'] = 1\n",
        "df.loc[df['risco']== 'Médio', 'risco'] = 2"
      ],
      "execution_count": 66,
      "outputs": []
    },
    {
      "cell_type": "code",
      "metadata": {
        "colab": {
          "base_uri": "https://localhost:8080/",
          "height": 324
        },
        "id": "bs9hXY1VHvbR",
        "outputId": "c2cf9692-0710-43d1-c92c-86dbc060e532"
      },
      "source": [
        "df.head()"
      ],
      "execution_count": 67,
      "outputs": [
        {
          "output_type": "execute_result",
          "data": {
            "text/html": [
              "<div>\n",
              "<style scoped>\n",
              "    .dataframe tbody tr th:only-of-type {\n",
              "        vertical-align: middle;\n",
              "    }\n",
              "\n",
              "    .dataframe tbody tr th {\n",
              "        vertical-align: top;\n",
              "    }\n",
              "\n",
              "    .dataframe thead th {\n",
              "        text-align: right;\n",
              "    }\n",
              "</style>\n",
              "<table border=\"1\" class=\"dataframe\">\n",
              "  <thead>\n",
              "    <tr style=\"text-align: right;\">\n",
              "      <th></th>\n",
              "      <th>Unnamed: 0</th>\n",
              "      <th>risco_credito</th>\n",
              "      <th>saldo_conta</th>\n",
              "      <th>idade</th>\n",
              "      <th>tem_filhos</th>\n",
              "      <th>risco</th>\n",
              "      <th>n_contratos</th>\n",
              "      <th>banco</th>\n",
              "      <th>taxa_emprestimo</th>\n",
              "      <th>valor_contratado</th>\n",
              "      <th>lucro_esperado</th>\n",
              "      <th>data</th>\n",
              "      <th>n_dependentes</th>\n",
              "    </tr>\n",
              "  </thead>\n",
              "  <tbody>\n",
              "    <tr>\n",
              "      <th>0</th>\n",
              "      <td>0</td>\n",
              "      <td>0.874979</td>\n",
              "      <td>7731.0</td>\n",
              "      <td>31</td>\n",
              "      <td>1</td>\n",
              "      <td>2</td>\n",
              "      <td>NaN</td>\n",
              "      <td>A</td>\n",
              "      <td>0.740928</td>\n",
              "      <td>101.449573</td>\n",
              "      <td>70.422349</td>\n",
              "      <td>2021-09-09</td>\n",
              "      <td>0</td>\n",
              "    </tr>\n",
              "    <tr>\n",
              "      <th>1</th>\n",
              "      <td>1</td>\n",
              "      <td>0.909962</td>\n",
              "      <td>NaN</td>\n",
              "      <td>78</td>\n",
              "      <td>1</td>\n",
              "      <td>3</td>\n",
              "      <td>NaN</td>\n",
              "      <td>D</td>\n",
              "      <td>0.373933</td>\n",
              "      <td>80.963989</td>\n",
              "      <td>69.014723</td>\n",
              "      <td>2020-11-07</td>\n",
              "      <td>2</td>\n",
              "    </tr>\n",
              "    <tr>\n",
              "      <th>2</th>\n",
              "      <td>2</td>\n",
              "      <td>0.223025</td>\n",
              "      <td>1049.0</td>\n",
              "      <td>54</td>\n",
              "      <td>1</td>\n",
              "      <td>1</td>\n",
              "      <td>NaN</td>\n",
              "      <td>B</td>\n",
              "      <td>0.202436</td>\n",
              "      <td>8.649433</td>\n",
              "      <td>8.112917</td>\n",
              "      <td>2020-07-16</td>\n",
              "      <td>1</td>\n",
              "    </tr>\n",
              "    <tr>\n",
              "      <th>3</th>\n",
              "      <td>3</td>\n",
              "      <td>0.054422</td>\n",
              "      <td>5654.0</td>\n",
              "      <td>77</td>\n",
              "      <td>1</td>\n",
              "      <td>2</td>\n",
              "      <td>NaN</td>\n",
              "      <td>A</td>\n",
              "      <td>0.015751</td>\n",
              "      <td>7.297510</td>\n",
              "      <td>6.190525</td>\n",
              "      <td>2021-05-12</td>\n",
              "      <td>0</td>\n",
              "    </tr>\n",
              "    <tr>\n",
              "      <th>4</th>\n",
              "      <td>4</td>\n",
              "      <td>0.843362</td>\n",
              "      <td>3585.0</td>\n",
              "      <td>55</td>\n",
              "      <td>1</td>\n",
              "      <td>1</td>\n",
              "      <td>NaN</td>\n",
              "      <td>B</td>\n",
              "      <td>0.184674</td>\n",
              "      <td>89.795502</td>\n",
              "      <td>21.981938</td>\n",
              "      <td>2020-09-26</td>\n",
              "      <td>2</td>\n",
              "    </tr>\n",
              "  </tbody>\n",
              "</table>\n",
              "</div>"
            ],
            "text/plain": [
              "   Unnamed: 0  risco_credito  saldo_conta  idade tem_filhos risco  \\\n",
              "0           0       0.874979       7731.0     31          1     2   \n",
              "1           1       0.909962          NaN     78          1     3   \n",
              "2           2       0.223025       1049.0     54          1     1   \n",
              "3           3       0.054422       5654.0     77          1     2   \n",
              "4           4       0.843362       3585.0     55          1     1   \n",
              "\n",
              "   n_contratos banco  taxa_emprestimo  valor_contratado  lucro_esperado  \\\n",
              "0          NaN     A         0.740928        101.449573       70.422349   \n",
              "1          NaN     D         0.373933         80.963989       69.014723   \n",
              "2          NaN     B         0.202436          8.649433        8.112917   \n",
              "3          NaN     A         0.015751          7.297510        6.190525   \n",
              "4          NaN     B         0.184674         89.795502       21.981938   \n",
              "\n",
              "        data  n_dependentes  \n",
              "0 2021-09-09              0  \n",
              "1 2020-11-07              2  \n",
              "2 2020-07-16              1  \n",
              "3 2021-05-12              0  \n",
              "4 2020-09-26              2  "
            ]
          },
          "metadata": {
            "tags": []
          },
          "execution_count": 67
        }
      ]
    },
    {
      "cell_type": "code",
      "metadata": {
        "id": "mAfACuE2TBBP"
      },
      "source": [
        "\n",
        "# Utilizando One hot enconder\n",
        "df = pd.get_dummies(df,columns = ['banco'])"
      ],
      "execution_count": 68,
      "outputs": []
    },
    {
      "cell_type": "markdown",
      "metadata": {
        "id": "iQHzyjmzn1ao"
      },
      "source": [
        "# Verificação de valores ausentes"
      ]
    },
    {
      "cell_type": "code",
      "metadata": {
        "id": "gsbil4sy66Ei",
        "colab": {
          "base_uri": "https://localhost:8080/"
        },
        "outputId": "25ff822d-4001-429d-853f-e1ce9cac7987"
      },
      "source": [
        "# Verificação da soma dos valores nulos\n",
        "df.isnull().sum()"
      ],
      "execution_count": 69,
      "outputs": [
        {
          "output_type": "execute_result",
          "data": {
            "text/plain": [
              "Unnamed: 0             0\n",
              "risco_credito          0\n",
              "saldo_conta         5005\n",
              "idade                  0\n",
              "tem_filhos             0\n",
              "risco                  0\n",
              "n_contratos         7994\n",
              "taxa_emprestimo        0\n",
              "valor_contratado       0\n",
              "lucro_esperado         0\n",
              "data                   0\n",
              "n_dependentes          0\n",
              "banco_A                0\n",
              "banco_B                0\n",
              "banco_C                0\n",
              "banco_D                0\n",
              "dtype: int64"
            ]
          },
          "metadata": {
            "tags": []
          },
          "execution_count": 69
        }
      ]
    },
    {
      "cell_type": "code",
      "metadata": {
        "id": "rTb5SwrDLFfp",
        "colab": {
          "base_uri": "https://localhost:8080/",
          "height": 527
        },
        "outputId": "1628e15b-a50c-44f7-9e35-a9415dfdd1b1"
      },
      "source": [
        "# Plotar a matriz de valores nulos - Biblioteca 'missingno'\n",
        "msno.matrix(df);"
      ],
      "execution_count": 70,
      "outputs": [
        {
          "output_type": "display_data",
          "data": {
            "image/png": "[encoded data removed]",
            "text/plain": [
              "<Figure size 1800x720 with 2 Axes>"
            ]
          },
          "metadata": {
            "tags": [],
            "needs_background": "light"
          }
        }
      ]
    },
    {
      "cell_type": "code",
      "metadata": {
        "id": "vn1YBLvmO9mL"
      },
      "source": [
        "# Substituição de valores ausentes por 0\n",
        "df['n_contratos'] = df['n_contratos'].fillna(0)"
      ],
      "execution_count": 71,
      "outputs": []
    },
    {
      "cell_type": "code",
      "metadata": {
        "id": "eE0VFykp7DBW",
        "colab": {
          "base_uri": "https://localhost:8080/",
          "height": 265
        },
        "outputId": "a8642f17-c2d2-4adb-b850-3a90a34ecc31"
      },
      "source": [
        "# Conta a frequencia de cada atributo\n",
        "plt.hist(df['n_contratos']);"
      ],
      "execution_count": 72,
      "outputs": [
        {
          "output_type": "display_data",
          "data": {
            "image/png": "[encoded data removed]",
            "text/plain": [
              "<Figure size 432x288 with 1 Axes>"
            ]
          },
          "metadata": {
            "tags": [],
            "needs_background": "light"
          }
        }
      ]
    },
    {
      "cell_type": "code",
      "metadata": {
        "id": "EB3_3lUvAZXe",
        "colab": {
          "base_uri": "https://localhost:8080/"
        },
        "outputId": "b589aa80-7d2c-4cc3-95b2-0a0ee99e3966"
      },
      "source": [
        "df['n_contratos'].value_counts()"
      ],
      "execution_count": 73,
      "outputs": [
        {
          "output_type": "execute_result",
          "data": {
            "text/plain": [
              "0.0    7994\n",
              "2.0     758\n",
              "1.0     715\n",
              "3.0     365\n",
              "4.0     136\n",
              "5.0      27\n",
              "6.0       5\n",
              "Name: n_contratos, dtype: int64"
            ]
          },
          "metadata": {
            "tags": []
          },
          "execution_count": 73
        }
      ]
    },
    {
      "cell_type": "markdown",
      "metadata": {
        "id": "3slblBa8qkp6"
      },
      "source": [
        "# Verificação de Outliers"
      ]
    },
    {
      "cell_type": "code",
      "metadata": {
        "id": "U5LjCCHGUnaO",
        "colab": {
          "base_uri": "https://localhost:8080/",
          "height": 366
        },
        "outputId": "2ea9a89a-32d5-46a5-9e46-24a066b750b4"
      },
      "source": [
        "# Box-plot da coluna 'idade'\n",
        "\n",
        "sns.boxplot(df['idade']);"
      ],
      "execution_count": 74,
      "outputs": [
        {
          "output_type": "stream",
          "text": [
            "/usr/local/lib/python3.7/dist-packages/seaborn/_decorators.py:43: FutureWarning:\n",
            "\n",
            "Pass the following variable as a keyword arg: x. From version 0.12, the only valid positional argument will be `data`, and passing other arguments without an explicit keyword will result in an error or misinterpretation.\n",
            "\n"
          ],
          "name": "stderr"
        },
        {
          "output_type": "display_data",
          "data": {
            "image/png": "[encoded data removed]",
            "text/plain": [
              "<Figure size 432x288 with 1 Axes>"
            ]
          },
          "metadata": {
            "tags": [],
            "needs_background": "light"
          }
        }
      ]
    },
    {
      "cell_type": "code",
      "metadata": {
        "id": "uXA1cvL1Z5qn"
      },
      "source": [
        "# Intervalo interqualítico\n",
        "\n",
        "superior_conta = df['saldo_conta'].mean() + 1.5*(9998-2494.25)\n",
        "inferior_conta = df['saldo_conta'].mean() - 1.5*(9998-2494.25)"
      ],
      "execution_count": 75,
      "outputs": []
    },
    {
      "cell_type": "markdown",
      "metadata": {
        "id": "vgTcn7nDr0SR"
      },
      "source": [
        "# Normalização dos dados"
      ]
    },
    {
      "cell_type": "code",
      "metadata": {
        "id": "ro41QD9IOzKZ",
        "colab": {
          "base_uri": "https://localhost:8080/"
        },
        "outputId": "ce0869e8-a6f1-43e6-fb80-d72873fe71f2"
      },
      "source": [
        "df.info()"
      ],
      "execution_count": 76,
      "outputs": [
        {
          "output_type": "stream",
          "text": [
            "<class 'pandas.core.frame.DataFrame'>\n",
            "RangeIndex: 10000 entries, 0 to 9999\n",
            "Data columns (total 16 columns):\n",
            " #   Column            Non-Null Count  Dtype         \n",
            "---  ------            --------------  -----         \n",
            " 0   Unnamed: 0        10000 non-null  int64         \n",
            " 1   risco_credito     10000 non-null  float64       \n",
            " 2   saldo_conta       4995 non-null   float64       \n",
            " 3   idade             10000 non-null  int64         \n",
            " 4   tem_filhos        10000 non-null  object        \n",
            " 5   risco             10000 non-null  object        \n",
            " 6   n_contratos       10000 non-null  float64       \n",
            " 7   taxa_emprestimo   10000 non-null  float64       \n",
            " 8   valor_contratado  10000 non-null  float64       \n",
            " 9   lucro_esperado    10000 non-null  float64       \n",
            " 10  data              10000 non-null  datetime64[ns]\n",
            " 11  n_dependentes     10000 non-null  int64         \n",
            " 12  banco_A           10000 non-null  uint8         \n",
            " 13  banco_B           10000 non-null  uint8         \n",
            " 14  banco_C           10000 non-null  uint8         \n",
            " 15  banco_D           10000 non-null  uint8         \n",
            "dtypes: datetime64[ns](1), float64(6), int64(3), object(2), uint8(4)\n",
            "memory usage: 976.7+ KB\n"
          ],
          "name": "stdout"
        }
      ]
    },
    {
      "cell_type": "code",
      "metadata": {
        "colab": {
          "base_uri": "https://localhost:8080/",
          "height": 324
        },
        "id": "kKjwriSmJuIc",
        "outputId": "2301bd36-d157-4ad8-e8cb-528c22553357"
      },
      "source": [
        "df.head()"
      ],
      "execution_count": 77,
      "outputs": [
        {
          "output_type": "execute_result",
          "data": {
            "text/html": [
              "<div>\n",
              "<style scoped>\n",
              "    .dataframe tbody tr th:only-of-type {\n",
              "        vertical-align: middle;\n",
              "    }\n",
              "\n",
              "    .dataframe tbody tr th {\n",
              "        vertical-align: top;\n",
              "    }\n",
              "\n",
              "    .dataframe thead th {\n",
              "        text-align: right;\n",
              "    }\n",
              "</style>\n",
              "<table border=\"1\" class=\"dataframe\">\n",
              "  <thead>\n",
              "    <tr style=\"text-align: right;\">\n",
              "      <th></th>\n",
              "      <th>Unnamed: 0</th>\n",
              "      <th>risco_credito</th>\n",
              "      <th>saldo_conta</th>\n",
              "      <th>idade</th>\n",
              "      <th>tem_filhos</th>\n",
              "      <th>risco</th>\n",
              "      <th>n_contratos</th>\n",
              "      <th>taxa_emprestimo</th>\n",
              "      <th>valor_contratado</th>\n",
              "      <th>lucro_esperado</th>\n",
              "      <th>data</th>\n",
              "      <th>n_dependentes</th>\n",
              "      <th>banco_A</th>\n",
              "      <th>banco_B</th>\n",
              "      <th>banco_C</th>\n",
              "      <th>banco_D</th>\n",
              "    </tr>\n",
              "  </thead>\n",
              "  <tbody>\n",
              "    <tr>\n",
              "      <th>0</th>\n",
              "      <td>0</td>\n",
              "      <td>0.874979</td>\n",
              "      <td>7731.0</td>\n",
              "      <td>31</td>\n",
              "      <td>1</td>\n",
              "      <td>2</td>\n",
              "      <td>0.0</td>\n",
              "      <td>0.740928</td>\n",
              "      <td>101.449573</td>\n",
              "      <td>70.422349</td>\n",
              "      <td>2021-09-09</td>\n",
              "      <td>0</td>\n",
              "      <td>1</td>\n",
              "      <td>0</td>\n",
              "      <td>0</td>\n",
              "      <td>0</td>\n",
              "    </tr>\n",
              "    <tr>\n",
              "      <th>1</th>\n",
              "      <td>1</td>\n",
              "      <td>0.909962</td>\n",
              "      <td>NaN</td>\n",
              "      <td>78</td>\n",
              "      <td>1</td>\n",
              "      <td>3</td>\n",
              "      <td>0.0</td>\n",
              "      <td>0.373933</td>\n",
              "      <td>80.963989</td>\n",
              "      <td>69.014723</td>\n",
              "      <td>2020-11-07</td>\n",
              "      <td>2</td>\n",
              "      <td>0</td>\n",
              "      <td>0</td>\n",
              "      <td>0</td>\n",
              "      <td>1</td>\n",
              "    </tr>\n",
              "    <tr>\n",
              "      <th>2</th>\n",
              "      <td>2</td>\n",
              "      <td>0.223025</td>\n",
              "      <td>1049.0</td>\n",
              "      <td>54</td>\n",
              "      <td>1</td>\n",
              "      <td>1</td>\n",
              "      <td>0.0</td>\n",
              "      <td>0.202436</td>\n",
              "      <td>8.649433</td>\n",
              "      <td>8.112917</td>\n",
              "      <td>2020-07-16</td>\n",
              "      <td>1</td>\n",
              "      <td>0</td>\n",
              "      <td>1</td>\n",
              "      <td>0</td>\n",
              "      <td>0</td>\n",
              "    </tr>\n",
              "    <tr>\n",
              "      <th>3</th>\n",
              "      <td>3</td>\n",
              "      <td>0.054422</td>\n",
              "      <td>5654.0</td>\n",
              "      <td>77</td>\n",
              "      <td>1</td>\n",
              "      <td>2</td>\n",
              "      <td>0.0</td>\n",
              "      <td>0.015751</td>\n",
              "      <td>7.297510</td>\n",
              "      <td>6.190525</td>\n",
              "      <td>2021-05-12</td>\n",
              "      <td>0</td>\n",
              "      <td>1</td>\n",
              "      <td>0</td>\n",
              "      <td>0</td>\n",
              "      <td>0</td>\n",
              "    </tr>\n",
              "    <tr>\n",
              "      <th>4</th>\n",
              "      <td>4</td>\n",
              "      <td>0.843362</td>\n",
              "      <td>3585.0</td>\n",
              "      <td>55</td>\n",
              "      <td>1</td>\n",
              "      <td>1</td>\n",
              "      <td>0.0</td>\n",
              "      <td>0.184674</td>\n",
              "      <td>89.795502</td>\n",
              "      <td>21.981938</td>\n",
              "      <td>2020-09-26</td>\n",
              "      <td>2</td>\n",
              "      <td>0</td>\n",
              "      <td>1</td>\n",
              "      <td>0</td>\n",
              "      <td>0</td>\n",
              "    </tr>\n",
              "  </tbody>\n",
              "</table>\n",
              "</div>"
            ],
            "text/plain": [
              "   Unnamed: 0  risco_credito  saldo_conta  idade tem_filhos risco  \\\n",
              "0           0       0.874979       7731.0     31          1     2   \n",
              "1           1       0.909962          NaN     78          1     3   \n",
              "2           2       0.223025       1049.0     54          1     1   \n",
              "3           3       0.054422       5654.0     77          1     2   \n",
              "4           4       0.843362       3585.0     55          1     1   \n",
              "\n",
              "   n_contratos  taxa_emprestimo  valor_contratado  lucro_esperado       data  \\\n",
              "0          0.0         0.740928        101.449573       70.422349 2021-09-09   \n",
              "1          0.0         0.373933         80.963989       69.014723 2020-11-07   \n",
              "2          0.0         0.202436          8.649433        8.112917 2020-07-16   \n",
              "3          0.0         0.015751          7.297510        6.190525 2021-05-12   \n",
              "4          0.0         0.184674         89.795502       21.981938 2020-09-26   \n",
              "\n",
              "   n_dependentes  banco_A  banco_B  banco_C  banco_D  \n",
              "0              0        1        0        0        0  \n",
              "1              2        0        0        0        1  \n",
              "2              1        0        1        0        0  \n",
              "3              0        1        0        0        0  \n",
              "4              2        0        1        0        0  "
            ]
          },
          "metadata": {
            "tags": []
          },
          "execution_count": 77
        }
      ]
    },
    {
      "cell_type": "code",
      "metadata": {
        "id": "AaxuOppusQMT"
      },
      "source": [
        "x = df[['idade','n_contratos','risco','n_dependentes','tem_filhos','banco_A','banco_B','banco_C','banco_D','risco_credito','taxa_emprestimo','valor_contratado']]\n",
        "y = df[['lucro_esperado']]"
      ],
      "execution_count": 78,
      "outputs": []
    },
    {
      "cell_type": "code",
      "metadata": {
        "id": "-cGOobivsvbl",
        "colab": {
          "base_uri": "https://localhost:8080/"
        },
        "outputId": "ca99830f-8646-4f8a-8a97-67838ad49a21"
      },
      "source": [
        "df.info()\n",
        "df['taxa_emprestimo'] = df['taxa_emprestimo'].astype(float)"
      ],
      "execution_count": 79,
      "outputs": [
        {
          "output_type": "stream",
          "text": [
            "<class 'pandas.core.frame.DataFrame'>\n",
            "RangeIndex: 10000 entries, 0 to 9999\n",
            "Data columns (total 16 columns):\n",
            " #   Column            Non-Null Count  Dtype         \n",
            "---  ------            --------------  -----         \n",
            " 0   Unnamed: 0        10000 non-null  int64         \n",
            " 1   risco_credito     10000 non-null  float64       \n",
            " 2   saldo_conta       4995 non-null   float64       \n",
            " 3   idade             10000 non-null  int64         \n",
            " 4   tem_filhos        10000 non-null  object        \n",
            " 5   risco             10000 non-null  object        \n",
            " 6   n_contratos       10000 non-null  float64       \n",
            " 7   taxa_emprestimo   10000 non-null  float64       \n",
            " 8   valor_contratado  10000 non-null  float64       \n",
            " 9   lucro_esperado    10000 non-null  float64       \n",
            " 10  data              10000 non-null  datetime64[ns]\n",
            " 11  n_dependentes     10000 non-null  int64         \n",
            " 12  banco_A           10000 non-null  uint8         \n",
            " 13  banco_B           10000 non-null  uint8         \n",
            " 14  banco_C           10000 non-null  uint8         \n",
            " 15  banco_D           10000 non-null  uint8         \n",
            "dtypes: datetime64[ns](1), float64(6), int64(3), object(2), uint8(4)\n",
            "memory usage: 976.7+ KB\n"
          ],
          "name": "stdout"
        }
      ]
    },
    {
      "cell_type": "code",
      "metadata": {
        "id": "X9TAZmXbJjLE",
        "colab": {
          "base_uri": "https://localhost:8080/",
          "height": 324
        },
        "outputId": "9c6359ce-4e07-4db4-a4ca-260566f471c3"
      },
      "source": [
        "df.head()"
      ],
      "execution_count": 80,
      "outputs": [
        {
          "output_type": "execute_result",
          "data": {
            "text/html": [
              "<div>\n",
              "<style scoped>\n",
              "    .dataframe tbody tr th:only-of-type {\n",
              "        vertical-align: middle;\n",
              "    }\n",
              "\n",
              "    .dataframe tbody tr th {\n",
              "        vertical-align: top;\n",
              "    }\n",
              "\n",
              "    .dataframe thead th {\n",
              "        text-align: right;\n",
              "    }\n",
              "</style>\n",
              "<table border=\"1\" class=\"dataframe\">\n",
              "  <thead>\n",
              "    <tr style=\"text-align: right;\">\n",
              "      <th></th>\n",
              "      <th>Unnamed: 0</th>\n",
              "      <th>risco_credito</th>\n",
              "      <th>saldo_conta</th>\n",
              "      <th>idade</th>\n",
              "      <th>tem_filhos</th>\n",
              "      <th>risco</th>\n",
              "      <th>n_contratos</th>\n",
              "      <th>taxa_emprestimo</th>\n",
              "      <th>valor_contratado</th>\n",
              "      <th>lucro_esperado</th>\n",
              "      <th>data</th>\n",
              "      <th>n_dependentes</th>\n",
              "      <th>banco_A</th>\n",
              "      <th>banco_B</th>\n",
              "      <th>banco_C</th>\n",
              "      <th>banco_D</th>\n",
              "    </tr>\n",
              "  </thead>\n",
              "  <tbody>\n",
              "    <tr>\n",
              "      <th>0</th>\n",
              "      <td>0</td>\n",
              "      <td>0.874979</td>\n",
              "      <td>7731.0</td>\n",
              "      <td>31</td>\n",
              "      <td>1</td>\n",
              "      <td>2</td>\n",
              "      <td>0.0</td>\n",
              "      <td>0.740928</td>\n",
              "      <td>101.449573</td>\n",
              "      <td>70.422349</td>\n",
              "      <td>2021-09-09</td>\n",
              "      <td>0</td>\n",
              "      <td>1</td>\n",
              "      <td>0</td>\n",
              "      <td>0</td>\n",
              "      <td>0</td>\n",
              "    </tr>\n",
              "    <tr>\n",
              "      <th>1</th>\n",
              "      <td>1</td>\n",
              "      <td>0.909962</td>\n",
              "      <td>NaN</td>\n",
              "      <td>78</td>\n",
              "      <td>1</td>\n",
              "      <td>3</td>\n",
              "      <td>0.0</td>\n",
              "      <td>0.373933</td>\n",
              "      <td>80.963989</td>\n",
              "      <td>69.014723</td>\n",
              "      <td>2020-11-07</td>\n",
              "      <td>2</td>\n",
              "      <td>0</td>\n",
              "      <td>0</td>\n",
              "      <td>0</td>\n",
              "      <td>1</td>\n",
              "    </tr>\n",
              "    <tr>\n",
              "      <th>2</th>\n",
              "      <td>2</td>\n",
              "      <td>0.223025</td>\n",
              "      <td>1049.0</td>\n",
              "      <td>54</td>\n",
              "      <td>1</td>\n",
              "      <td>1</td>\n",
              "      <td>0.0</td>\n",
              "      <td>0.202436</td>\n",
              "      <td>8.649433</td>\n",
              "      <td>8.112917</td>\n",
              "      <td>2020-07-16</td>\n",
              "      <td>1</td>\n",
              "      <td>0</td>\n",
              "      <td>1</td>\n",
              "      <td>0</td>\n",
              "      <td>0</td>\n",
              "    </tr>\n",
              "    <tr>\n",
              "      <th>3</th>\n",
              "      <td>3</td>\n",
              "      <td>0.054422</td>\n",
              "      <td>5654.0</td>\n",
              "      <td>77</td>\n",
              "      <td>1</td>\n",
              "      <td>2</td>\n",
              "      <td>0.0</td>\n",
              "      <td>0.015751</td>\n",
              "      <td>7.297510</td>\n",
              "      <td>6.190525</td>\n",
              "      <td>2021-05-12</td>\n",
              "      <td>0</td>\n",
              "      <td>1</td>\n",
              "      <td>0</td>\n",
              "      <td>0</td>\n",
              "      <td>0</td>\n",
              "    </tr>\n",
              "    <tr>\n",
              "      <th>4</th>\n",
              "      <td>4</td>\n",
              "      <td>0.843362</td>\n",
              "      <td>3585.0</td>\n",
              "      <td>55</td>\n",
              "      <td>1</td>\n",
              "      <td>1</td>\n",
              "      <td>0.0</td>\n",
              "      <td>0.184674</td>\n",
              "      <td>89.795502</td>\n",
              "      <td>21.981938</td>\n",
              "      <td>2020-09-26</td>\n",
              "      <td>2</td>\n",
              "      <td>0</td>\n",
              "      <td>1</td>\n",
              "      <td>0</td>\n",
              "      <td>0</td>\n",
              "    </tr>\n",
              "  </tbody>\n",
              "</table>\n",
              "</div>"
            ],
            "text/plain": [
              "   Unnamed: 0  risco_credito  saldo_conta  idade tem_filhos risco  \\\n",
              "0           0       0.874979       7731.0     31          1     2   \n",
              "1           1       0.909962          NaN     78          1     3   \n",
              "2           2       0.223025       1049.0     54          1     1   \n",
              "3           3       0.054422       5654.0     77          1     2   \n",
              "4           4       0.843362       3585.0     55          1     1   \n",
              "\n",
              "   n_contratos  taxa_emprestimo  valor_contratado  lucro_esperado       data  \\\n",
              "0          0.0         0.740928        101.449573       70.422349 2021-09-09   \n",
              "1          0.0         0.373933         80.963989       69.014723 2020-11-07   \n",
              "2          0.0         0.202436          8.649433        8.112917 2020-07-16   \n",
              "3          0.0         0.015751          7.297510        6.190525 2021-05-12   \n",
              "4          0.0         0.184674         89.795502       21.981938 2020-09-26   \n",
              "\n",
              "   n_dependentes  banco_A  banco_B  banco_C  banco_D  \n",
              "0              0        1        0        0        0  \n",
              "1              2        0        0        0        1  \n",
              "2              1        0        1        0        0  \n",
              "3              0        1        0        0        0  \n",
              "4              2        0        1        0        0  "
            ]
          },
          "metadata": {
            "tags": []
          },
          "execution_count": 80
        }
      ]
    },
    {
      "cell_type": "code",
      "metadata": {
        "id": "Nu7vd5TiAKu3"
      },
      "source": [
        "df['n_contratos'] = df['n_contratos'].astype('Int64')"
      ],
      "execution_count": 81,
      "outputs": []
    },
    {
      "cell_type": "code",
      "metadata": {
        "id": "vdg9bzVtsWeF"
      },
      "source": [
        "normal = pd.DataFrame(StandardScaler().fit_transform(x))"
      ],
      "execution_count": 82,
      "outputs": []
    },
    {
      "cell_type": "code",
      "metadata": {
        "id": "0o7772lHsl2e"
      },
      "source": [
        "x_train, x_test, y_train, y_test = train_test_split( normal,y, test_size=0.3, random_state = 10)\n"
      ],
      "execution_count": 83,
      "outputs": []
    },
    {
      "cell_type": "code",
      "metadata": {
        "id": "wgDPvFwjuqJE"
      },
      "source": [
        "df['risco_credito']=pd.to_numeric(df['risco_credito'],errors = 'coerce')\n",
        "df['taxa_emprestimo']=pd.to_numeric(df['taxa_emprestimo'],errors = 'coerce')\n",
        "df['valor_contratado']=pd.to_numeric(df['valor_contratado'],errors = 'coerce')\n",
        "df['lucro_esperado']=pd.to_numeric(df['lucro_esperado'],errors = 'coerce')"
      ],
      "execution_count": 84,
      "outputs": []
    },
    {
      "cell_type": "code",
      "metadata": {
        "id": "Yhab93rvyLMJ",
        "colab": {
          "base_uri": "https://localhost:8080/"
        },
        "outputId": "bd5a9eaf-94f9-4b5e-b84f-295e96d1e050"
      },
      "source": [
        "from sklearn.linear_model import LinearRegression \n",
        "regr = LinearRegression()\n",
        "regr.fit(x_train, y_train)"
      ],
      "execution_count": 87,
      "outputs": [
        {
          "output_type": "execute_result",
          "data": {
            "text/plain": [
              "LinearRegression(copy_X=True, fit_intercept=True, n_jobs=None, normalize=False)"
            ]
          },
          "metadata": {
            "tags": []
          },
          "execution_count": 87
        }
      ]
    },
    {
      "cell_type": "code",
      "metadata": {
        "id": "Y3lytuf8QK6O",
        "colab": {
          "base_uri": "https://localhost:8080/"
        },
        "outputId": "9f150517-81e8-4f2d-9f19-6ad77e61c073"
      },
      "source": [
        "regr.predict(x_test)"
      ],
      "execution_count": 88,
      "outputs": [
        {
          "output_type": "execute_result",
          "data": {
            "text/plain": [
              "array([[ 9.11617798],\n",
              "       [11.77334297],\n",
              "       [23.25311748],\n",
              "       ...,\n",
              "       [35.41861606],\n",
              "       [52.46004031],\n",
              "       [46.93828834]])"
            ]
          },
          "metadata": {
            "tags": []
          },
          "execution_count": 88
        }
      ]
    },
    {
      "cell_type": "code",
      "metadata": {
        "id": "UkwXlNnVRZeK",
        "colab": {
          "base_uri": "https://localhost:8080/"
        },
        "outputId": "cec9cb6a-ad7b-42e8-f641-53ff63c8ca8e"
      },
      "source": [
        "regr.score(x_test,y_test)"
      ],
      "execution_count": 89,
      "outputs": [
        {
          "output_type": "execute_result",
          "data": {
            "text/plain": [
              "0.490658937108188"
            ]
          },
          "metadata": {
            "tags": []
          },
          "execution_count": 89
        }
      ]
    },
    {
      "cell_type": "code",
      "metadata": {
        "id": "c9gQcrH3RlEE",
        "colab": {
          "base_uri": "https://localhost:8080/"
        },
        "outputId": "9fa835a8-729f-4869-9b38-06d8c847946d"
      },
      "source": [
        "regr.score(x_train,y_train)"
      ],
      "execution_count": 90,
      "outputs": [
        {
          "output_type": "execute_result",
          "data": {
            "text/plain": [
              "0.48931060544801197"
            ]
          },
          "metadata": {
            "tags": []
          },
          "execution_count": 90
        }
      ]
    },
    {
      "cell_type": "code",
      "metadata": {
        "id": "ifpjoNqsvEFt",
        "colab": {
          "base_uri": "https://localhost:8080/"
        },
        "outputId": "9f9ca5b4-7cad-44a3-a3b6-fb110e01e84f"
      },
      "source": [
        "df.info()"
      ],
      "execution_count": 91,
      "outputs": [
        {
          "output_type": "stream",
          "text": [
            "<class 'pandas.core.frame.DataFrame'>\n",
            "RangeIndex: 10000 entries, 0 to 9999\n",
            "Data columns (total 16 columns):\n",
            " #   Column            Non-Null Count  Dtype         \n",
            "---  ------            --------------  -----         \n",
            " 0   Unnamed: 0        10000 non-null  int64         \n",
            " 1   risco_credito     10000 non-null  float64       \n",
            " 2   saldo_conta       4995 non-null   float64       \n",
            " 3   idade             10000 non-null  int64         \n",
            " 4   tem_filhos        10000 non-null  object        \n",
            " 5   risco             10000 non-null  object        \n",
            " 6   n_contratos       10000 non-null  Int64         \n",
            " 7   taxa_emprestimo   10000 non-null  float64       \n",
            " 8   valor_contratado  10000 non-null  float64       \n",
            " 9   lucro_esperado    10000 non-null  float64       \n",
            " 10  data              10000 non-null  datetime64[ns]\n",
            " 11  n_dependentes     10000 non-null  int64         \n",
            " 12  banco_A           10000 non-null  uint8         \n",
            " 13  banco_B           10000 non-null  uint8         \n",
            " 14  banco_C           10000 non-null  uint8         \n",
            " 15  banco_D           10000 non-null  uint8         \n",
            "dtypes: Int64(1), datetime64[ns](1), float64(5), int64(3), object(2), uint8(4)\n",
            "memory usage: 986.5+ KB\n"
          ],
          "name": "stdout"
        }
      ]
    },
    {
      "cell_type": "markdown",
      "metadata": {
        "id": "7D2UoLy6why9"
      },
      "source": [
        "# Regressão Linear"
      ]
    },
    {
      "cell_type": "code",
      "metadata": {
        "id": "CANSXacmwhQu"
      },
      "source": [
        ""
      ],
      "execution_count": 91,
      "outputs": []
    },
    {
      "cell_type": "markdown",
      "metadata": {
        "id": "lMl86g1b39Yn"
      },
      "source": [
        "# PCA"
      ]
    },
    {
      "cell_type": "code",
      "metadata": {
        "id": "R2WPqvaBvE3T",
        "colab": {
          "base_uri": "https://localhost:8080/"
        },
        "outputId": "d0c9e6af-fae7-40d4-bc93-bbae98029da1"
      },
      "source": [
        "pca = PCA(n_components = 2)\n",
        "pca.fit(x)"
      ],
      "execution_count": 92,
      "outputs": [
        {
          "output_type": "execute_result",
          "data": {
            "text/plain": [
              "PCA(copy=True, iterated_power='auto', n_components=2, random_state=None,\n",
              "    svd_solver='auto', tol=0.0, whiten=False)"
            ]
          },
          "metadata": {
            "tags": []
          },
          "execution_count": 92
        }
      ]
    },
    {
      "cell_type": "code",
      "metadata": {
        "id": "JrFZut4GAFRG",
        "colab": {
          "base_uri": "https://localhost:8080/"
        },
        "outputId": "adbd79d9-15fb-469b-8aaf-3df784314f99"
      },
      "source": [
        "# Taxa de variancia explicada\n",
        "pca.explained_variance_ratio_"
      ],
      "execution_count": 93,
      "outputs": [
        {
          "output_type": "execute_result",
          "data": {
            "text/plain": [
              "array([0.69422419, 0.30317201])"
            ]
          },
          "metadata": {
            "tags": []
          },
          "execution_count": 93
        }
      ]
    },
    {
      "cell_type": "code",
      "metadata": {
        "id": "V3JxKrKgBVTv",
        "colab": {
          "base_uri": "https://localhost:8080/"
        },
        "outputId": "005496c1-72d2-4d85-bf8e-f509545710fb"
      },
      "source": [
        "# Valor de cada componente\n",
        "pca.singular_values_"
      ],
      "execution_count": 94,
      "outputs": [
        {
          "output_type": "execute_result",
          "data": {
            "text/plain": [
              "array([3065.33482271, 2025.68819931])"
            ]
          },
          "metadata": {
            "tags": []
          },
          "execution_count": 94
        }
      ]
    },
    {
      "cell_type": "code",
      "metadata": {
        "id": "xdZfTAoQKW0a"
      },
      "source": [
        ""
      ],
      "execution_count": null,
      "outputs": []
    }
  ]
}