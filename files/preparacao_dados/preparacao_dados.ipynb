{
  "nbformat": 4,
  "nbformat_minor": 0,
  "metadata": {
    "colab": {
      "name": "preparacao_dados.ipynb",
      "provenance": []
    },
    "kernelspec": {
      "name": "python3",
      "display_name": "Python 3"
    },
    "language_info": {
      "name": "python"
    }
  },
  "cells": [
    {
      "cell_type": "markdown",
      "metadata": {
        "id": "NIZffcFbxRxt"
      },
      "source": [
        "# Importação de Bibliotecas necessárias"
      ]
    },
    {
      "cell_type": "code",
      "metadata": {
        "id": "mWZLMz1v6fOh"
      },
      "source": [
        "import pandas as pd\n",
        "import numpy as np\n",
        "import seaborn as sns\n",
        "import matplotlib as plot\n",
        "import plotly.express as px\n",
        "import matplotlib.pyplot as plt\n",
        "import missingno as msno\n",
        "from sklearn.preprocessing import StandardScaler\n",
        "from sklearn.model_selection import train_test_split"
      ],
      "execution_count": 1,
      "outputs": []
    },
    {
      "cell_type": "code",
      "metadata": {
        "id": "Fkbj0x4v6tCw"
      },
      "source": [
        "pd.set_option('display.max_columns', None)\n",
        "pd.set_option('display.max_rows', None)"
      ],
      "execution_count": 2,
      "outputs": []
    },
    {
      "cell_type": "code",
      "metadata": {
        "id": "CVGDbRm26zrq"
      },
      "source": [
        "# Dataset para o Pré-Processamento\n",
        "df = pd.read_csv('/content/dado_preprocessamento_nina (2) - dado_preprocessamento_nina (2).csv')"
      ],
      "execution_count": 67,
      "outputs": []
    },
    {
      "cell_type": "markdown",
      "metadata": {
        "id": "oHvO3C7orNv0"
      },
      "source": [
        "# Análise de dados"
      ]
    },
    {
      "cell_type": "code",
      "metadata": {
        "id": "LwmxNFvp7s15"
      },
      "source": [
        "# Verificação dos tipos de variáveis\n",
        "df.info()"
      ],
      "execution_count": null,
      "outputs": []
    },
    {
      "cell_type": "code",
      "metadata": {
        "id": "Srj9us9yrPhs"
      },
      "source": [
        "# Verificação da correlação \n",
        "df.corr()"
      ],
      "execution_count": null,
      "outputs": []
    },
    {
      "cell_type": "code",
      "metadata": {
        "id": "0KYWoYAqrUwN"
      },
      "source": [
        "# Análise descritiva\n",
        "df.describe()"
      ],
      "execution_count": null,
      "outputs": []
    },
    {
      "cell_type": "code",
      "metadata": {
        "id": "kSFV1vkXrgAC"
      },
      "source": [
        "# Histograma da variável \"Saldo_conta\" \n",
        "plt.hist(x = df['saldo_conta'])"
      ],
      "execution_count": null,
      "outputs": []
    },
    {
      "cell_type": "markdown",
      "metadata": {
        "id": "HngQ5Rb1wotq"
      },
      "source": [
        "# Transformação de Variáveis"
      ]
    },
    {
      "cell_type": "code",
      "metadata": {
        "id": "P07uh1GuwtvF"
      },
      "source": [
        "df['risco_credito']=pd.to_numeric(df['risco_credito'],errors = 'coerce')\n",
        "df['taxa_emprestimo']=pd.to_numeric(df['taxa_emprestimo'],errors = 'coerce')\n",
        "df['valor_contratado']=pd.to_numeric(df['valor_contratado'],errors = 'coerce')\n",
        "df['lucro_esperado']=pd.to_numeric(df['lucro_esperado'],errors = 'coerce')"
      ],
      "execution_count": null,
      "outputs": []
    },
    {
      "cell_type": "markdown",
      "metadata": {
        "id": "CxM7UL1iqO0q"
      },
      "source": [
        "# Tratamento de Variáveis Categóricas"
      ]
    },
    {
      "cell_type": "code",
      "metadata": {
        "id": "WYMRy4faooq9"
      },
      "source": [
        "# Utilizando label enconder\n",
        "df.loc[df['tem_filhos'] == 'S', 'tem_filhos'] = 1\n",
        "df.loc[df['tem_filhos'] == 'N', 'tem_filhos'] = 0"
      ],
      "execution_count": null,
      "outputs": []
    },
    {
      "cell_type": "code",
      "metadata": {
        "id": "pSSgaMaIQIEg"
      },
      "source": [
        "# Utilizando label enconder\n",
        "df.loc[df['risco'] == 'Alto', 'risco'] = 3\n",
        "df.loc[df['risco'] == 'Baixo', 'risco'] = 1\n",
        "df.loc[df['risco']== 'Médio', 'risco'] = 2"
      ],
      "execution_count": 18,
      "outputs": []
    },
    {
      "cell_type": "code",
      "metadata": {
        "id": "mAfACuE2TBBP"
      },
      "source": [
        "# Utilizando One hot enconder\n",
        "df = pd.get_dummies(df,columns = ['banco'])"
      ],
      "execution_count": null,
      "outputs": []
    },
    {
      "cell_type": "markdown",
      "metadata": {
        "id": "iQHzyjmzn1ao"
      },
      "source": [
        "# Verificação de valores ausentes"
      ]
    },
    {
      "cell_type": "code",
      "metadata": {
        "id": "gsbil4sy66Ei"
      },
      "source": [
        "# Verificação da soma dos valores nulos\n",
        "df.isnull().sum()"
      ],
      "execution_count": null,
      "outputs": []
    },
    {
      "cell_type": "code",
      "metadata": {
        "colab": {
          "base_uri": "https://localhost:8080/",
          "height": 544
        },
        "id": "rTb5SwrDLFfp",
        "outputId": "2de24957-cf08-479d-9318-d0ba3833030b"
      },
      "source": [
        "# Plotar a matriz de valores nulos - Biblioteca 'missingno'\n",
        "msno.matrix(df)"
      ],
      "execution_count": 10,
      "outputs": [
        {
          "output_type": "execute_result",
          "data": {
            "text/plain": [
              "<matplotlib.axes._subplots.AxesSubplot at 0x7fcc2d43de90>"
            ]
          },
          "metadata": {
            "tags": []
          },
          "execution_count": 10
        },
        {
          "output_type": "display_data",
          "data": {
            "image/png": "[encoded data removed]",
            "text/plain": [
              "<Figure size 1800x720 with 2 Axes>"
            ]
          },
          "metadata": {
            "tags": [],
            "needs_background": "light"
          }
        }
      ]
    },
    {
      "cell_type": "code",
      "metadata": {
        "id": "vn1YBLvmO9mL"
      },
      "source": [
        "# Substituição de valores ausentes por 0\n",
        "df['n_contratos'].fillna(0)"
      ],
      "execution_count": null,
      "outputs": []
    },
    {
      "cell_type": "code",
      "metadata": {
        "colab": {
          "base_uri": "https://localhost:8080/",
          "height": 265
        },
        "id": "eE0VFykp7DBW",
        "outputId": "a38efc28-25c1-4d2e-cfa6-b70c6b69ed2b"
      },
      "source": [
        "# Conta a frequencia de cada atributo\n",
        "plt.hist(df['n_contratos']);"
      ],
      "execution_count": null,
      "outputs": [
        {
          "output_type": "display_data",
          "data": {
            "image/png": "[encoded data removed]",
            "text/plain": [
              "<Figure size 432x288 with 1 Axes>"
            ]
          },
          "metadata": {
            "tags": [],
            "needs_background": "light"
          }
        }
      ]
    },
    {
      "cell_type": "code",
      "metadata": {
        "id": "EB3_3lUvAZXe"
      },
      "source": [
        "df['n_contratos'].value_counts()"
      ],
      "execution_count": null,
      "outputs": []
    },
    {
      "cell_type": "markdown",
      "metadata": {
        "id": "3slblBa8qkp6"
      },
      "source": [
        "# Verificação de Outliers"
      ]
    },
    {
      "cell_type": "code",
      "metadata": {
        "id": "U5LjCCHGUnaO"
      },
      "source": [
        "# Box-plot da coluna 'idade'\n",
        "\n",
        "sns.boxplot(df['idade']);"
      ],
      "execution_count": null,
      "outputs": []
    },
    {
      "cell_type": "code",
      "metadata": {
        "id": "uXA1cvL1Z5qn"
      },
      "source": [
        "# Intervalo interqualítico\n",
        "\n",
        "superior_conta = df['saldo_conta'].mean() + 1.5*(9998-2494.25)\n",
        "inferior_conta = df['saldo_conta'].mean() - 1.5*(9998-2494.25)"
      ],
      "execution_count": null,
      "outputs": []
    },
    {
      "cell_type": "markdown",
      "metadata": {
        "id": "vgTcn7nDr0SR"
      },
      "source": [
        "# Normalização dos dados"
      ]
    },
    {
      "cell_type": "code",
      "metadata": {
        "id": "AaxuOppusQMT"
      },
      "source": [
        "x = df[['idade','n_contratos','banco_a','banco_b','banco_c','banco_d']]\n",
        "y = df[['lucro_esperado']]"
      ],
      "execution_count": 55,
      "outputs": []
    },
    {
      "cell_type": "code",
      "metadata": {
        "id": "-cGOobivsvbl"
      },
      "source": [
        "df.info()\n",
        "df['taxa_emprestimo'] = df['taxa_emprestimo'].astype(float)"
      ],
      "execution_count": null,
      "outputs": []
    },
    {
      "cell_type": "code",
      "metadata": {
        "id": "vdg9bzVtsWeF"
      },
      "source": [
        "normal = pd.DataFrame(StandardScaler().fit_transform(x))"
      ],
      "execution_count": 56,
      "outputs": []
    },
    {
      "cell_type": "code",
      "metadata": {
        "id": "0o7772lHsl2e"
      },
      "source": [
        "x_train, x_test, y_train, y_test = train_test_split( normal,y, test_size=0.3, random_state = 10)\n"
      ],
      "execution_count": 59,
      "outputs": []
    },
    {
      "cell_type": "code",
      "metadata": {
        "id": "wgDPvFwjuqJE"
      },
      "source": [
        "df['risco_credito']=pd.to_numeric(df['risco_credito'],errors = 'coerce')\n",
        "df['taxa_emprestimo']=pd.to_numeric(df['taxa_emprestimo'],errors = 'coerce')\n",
        "df['valor_contratado']=pd.to_numeric(df['valor_contratado'],errors = 'coerce')\n",
        "df['lucro_esperado']=pd.to_numeric(df['lucro_esperado'],errors = 'coerce')"
      ],
      "execution_count": 66,
      "outputs": []
    },
    {
      "cell_type": "code",
      "metadata": {
        "id": "ifpjoNqsvEFt"
      },
      "source": [
        "df.info()"
      ],
      "execution_count": null,
      "outputs": []
    },
    {
      "cell_type": "code",
      "metadata": {
        "id": "R2WPqvaBvE3T"
      },
      "source": [
        ""
      ],
      "execution_count": null,
      "outputs": []
    }
  ]
}