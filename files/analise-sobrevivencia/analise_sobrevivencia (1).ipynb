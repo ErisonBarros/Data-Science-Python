{
  "nbformat": 4,
  "nbformat_minor": 0,
  "metadata": {
    "colab": {
      "name": "analise_sobrevivencia.ipynb",
      "provenance": []
    },
    "kernelspec": {
      "name": "python3",
      "display_name": "Python 3"
    },
    "language_info": {
      "name": "python"
    }
  },
  "cells": [
    {
      "cell_type": "code",
      "metadata": {
        "id": "K71tAl7zb23j"
      },
      "source": [
        "pip install lifelines"
      ],
      "execution_count": null,
      "outputs": []
    },
    {
      "cell_type": "code",
      "metadata": {
        "id": "IHJL0XLPs7wj"
      },
      "source": [
        "# Importe das Bibliotecas que serão usadas\n",
        "import pandas as pd\n",
        "import numpy as np\n",
        "import matplotlib.pyplot as plt\n",
        "from scipy.special import logsumexp\n",
        "from lifelines import KaplanMeierFitter, CoxPHFitter\n",
        "from lifelines.statistics import logrank_test"
      ],
      "execution_count": 2,
      "outputs": []
    },
    {
      "cell_type": "code",
      "metadata": {
        "id": "vANL6Wgtt1KC"
      },
      "source": [
        "df = pd.read_csv(\"dadosGrupo2.txt\", sep = \"\\t\",header = None,names=[\"unidade\", \"idade\", \"sexo\",\"status\",\"tempo\",\"grande\",\"causa\"],skiprows=1)"
      ],
      "execution_count": 3,
      "outputs": []
    },
    {
      "cell_type": "code",
      "metadata": {
        "id": "NY7JqpzhbcWU",
        "colab": {
          "base_uri": "https://localhost:8080/",
          "height": 203
        },
        "outputId": "9b626514-ca27-4ff0-93eb-11833e1dfb6b"
      },
      "source": [
        "df.head()"
      ],
      "execution_count": 4,
      "outputs": [
        {
          "output_type": "execute_result",
          "data": {
            "text/html": [
              "<div>\n",
              "<style scoped>\n",
              "    .dataframe tbody tr th:only-of-type {\n",
              "        vertical-align: middle;\n",
              "    }\n",
              "\n",
              "    .dataframe tbody tr th {\n",
              "        vertical-align: top;\n",
              "    }\n",
              "\n",
              "    .dataframe thead th {\n",
              "        text-align: right;\n",
              "    }\n",
              "</style>\n",
              "<table border=\"1\" class=\"dataframe\">\n",
              "  <thead>\n",
              "    <tr style=\"text-align: right;\">\n",
              "      <th></th>\n",
              "      <th>unidade</th>\n",
              "      <th>idade</th>\n",
              "      <th>sexo</th>\n",
              "      <th>status</th>\n",
              "      <th>tempo</th>\n",
              "      <th>grande</th>\n",
              "      <th>causa</th>\n",
              "    </tr>\n",
              "  </thead>\n",
              "  <tbody>\n",
              "    <tr>\n",
              "      <th>0</th>\n",
              "      <td>128</td>\n",
              "      <td>52</td>\n",
              "      <td>1</td>\n",
              "      <td>0</td>\n",
              "      <td>19</td>\n",
              "      <td>1</td>\n",
              "      <td>out</td>\n",
              "    </tr>\n",
              "    <tr>\n",
              "      <th>1</th>\n",
              "      <td>128</td>\n",
              "      <td>76</td>\n",
              "      <td>0</td>\n",
              "      <td>0</td>\n",
              "      <td>1</td>\n",
              "      <td>1</td>\n",
              "      <td>out</td>\n",
              "    </tr>\n",
              "    <tr>\n",
              "      <th>2</th>\n",
              "      <td>128</td>\n",
              "      <td>61</td>\n",
              "      <td>1</td>\n",
              "      <td>0</td>\n",
              "      <td>2</td>\n",
              "      <td>1</td>\n",
              "      <td>out</td>\n",
              "    </tr>\n",
              "    <tr>\n",
              "      <th>3</th>\n",
              "      <td>128</td>\n",
              "      <td>35</td>\n",
              "      <td>0</td>\n",
              "      <td>0</td>\n",
              "      <td>6</td>\n",
              "      <td>1</td>\n",
              "      <td>out</td>\n",
              "    </tr>\n",
              "    <tr>\n",
              "      <th>4</th>\n",
              "      <td>128</td>\n",
              "      <td>42</td>\n",
              "      <td>0</td>\n",
              "      <td>0</td>\n",
              "      <td>11</td>\n",
              "      <td>1</td>\n",
              "      <td>out</td>\n",
              "    </tr>\n",
              "  </tbody>\n",
              "</table>\n",
              "</div>"
            ],
            "text/plain": [
              "   unidade  idade  sexo  status  tempo  grande causa\n",
              "0      128     52     1       0     19       1   out\n",
              "1      128     76     0       0      1       1   out\n",
              "2      128     61     1       0      2       1   out\n",
              "3      128     35     0       0      6       1   out\n",
              "4      128     42     0       0     11       1   out"
            ]
          },
          "metadata": {
            "tags": []
          },
          "execution_count": 4
        }
      ]
    },
    {
      "cell_type": "code",
      "metadata": {
        "id": "vcpLITm8Ykvc",
        "colab": {
          "base_uri": "https://localhost:8080/"
        },
        "outputId": "665def0f-cb37-4dc0-9095-604eb3239d38"
      },
      "source": [
        "df.isnull().sum()"
      ],
      "execution_count": 5,
      "outputs": [
        {
          "output_type": "execute_result",
          "data": {
            "text/plain": [
              "unidade    0\n",
              "idade      0\n",
              "sexo       0\n",
              "status     0\n",
              "tempo      0\n",
              "grande     0\n",
              "causa      0\n",
              "dtype: int64"
            ]
          },
          "metadata": {
            "tags": []
          },
          "execution_count": 5
        }
      ]
    },
    {
      "cell_type": "code",
      "metadata": {
        "id": "2kjl6Le4ad-f",
        "colab": {
          "base_uri": "https://localhost:8080/",
          "height": 315
        },
        "outputId": "f6a15326-7a71-4545-df7a-14442d52fe47"
      },
      "source": [
        "plt.hist(x =df['status'])"
      ],
      "execution_count": 6,
      "outputs": [
        {
          "output_type": "execute_result",
          "data": {
            "text/plain": [
              "(array([660.,   0.,   0.,   0.,   0.,   0.,   0.,   0.,   0., 201.]),\n",
              " array([0. , 0.1, 0.2, 0.3, 0.4, 0.5, 0.6, 0.7, 0.8, 0.9, 1. ]),\n",
              " <a list of 10 Patch objects>)"
            ]
          },
          "metadata": {
            "tags": []
          },
          "execution_count": 6
        },
        {
          "output_type": "display_data",
          "data": {
            "image/png": "[encoded data removed]",
            "text/plain": [
              "<Figure size 432x288 with 1 Axes>"
            ]
          },
          "metadata": {
            "tags": [],
            "needs_background": "light"
          }
        }
      ]
    },
    {
      "cell_type": "code",
      "metadata": {
        "colab": {
          "base_uri": "https://localhost:8080/",
          "height": 317
        },
        "id": "9-0G6cI2x7NF",
        "outputId": "22bad6fa-19db-46f9-efc8-dd8a8f49b181"
      },
      "source": [
        "plt.hist(x =df['idade'])"
      ],
      "execution_count": 7,
      "outputs": [
        {
          "output_type": "execute_result",
          "data": {
            "text/plain": [
              "(array([  1.,   9.,  38., 101., 149., 179., 193., 131.,  54.,   6.]),\n",
              " array([ 0. ,  9.3, 18.6, 27.9, 37.2, 46.5, 55.8, 65.1, 74.4, 83.7, 93. ]),\n",
              " <a list of 10 Patch objects>)"
            ]
          },
          "metadata": {
            "tags": []
          },
          "execution_count": 7
        },
        {
          "output_type": "display_data",
          "data": {
            "image/png": "[encoded data removed]",
            "text/plain": [
              "<Figure size 432x288 with 1 Axes>"
            ]
          },
          "metadata": {
            "tags": [],
            "needs_background": "light"
          }
        }
      ]
    },
    {
      "cell_type": "code",
      "metadata": {
        "colab": {
          "base_uri": "https://localhost:8080/",
          "height": 295
        },
        "id": "oNbw7LP664v3",
        "outputId": "3045e2bb-8048-46b0-cbf5-c472491cb60c"
      },
      "source": [
        "df.describe()"
      ],
      "execution_count": 8,
      "outputs": [
        {
          "output_type": "execute_result",
          "data": {
            "text/html": [
              "<div>\n",
              "<style scoped>\n",
              "    .dataframe tbody tr th:only-of-type {\n",
              "        vertical-align: middle;\n",
              "    }\n",
              "\n",
              "    .dataframe tbody tr th {\n",
              "        vertical-align: top;\n",
              "    }\n",
              "\n",
              "    .dataframe thead th {\n",
              "        text-align: right;\n",
              "    }\n",
              "</style>\n",
              "<table border=\"1\" class=\"dataframe\">\n",
              "  <thead>\n",
              "    <tr style=\"text-align: right;\">\n",
              "      <th></th>\n",
              "      <th>unidade</th>\n",
              "      <th>idade</th>\n",
              "      <th>sexo</th>\n",
              "      <th>status</th>\n",
              "      <th>tempo</th>\n",
              "      <th>grande</th>\n",
              "    </tr>\n",
              "  </thead>\n",
              "  <tbody>\n",
              "    <tr>\n",
              "      <th>count</th>\n",
              "      <td>861.000000</td>\n",
              "      <td>861.000000</td>\n",
              "      <td>861.000000</td>\n",
              "      <td>861.000000</td>\n",
              "      <td>861.000000</td>\n",
              "      <td>861.000000</td>\n",
              "    </tr>\n",
              "    <tr>\n",
              "      <th>mean</th>\n",
              "      <td>1165.516841</td>\n",
              "      <td>52.862950</td>\n",
              "      <td>0.508711</td>\n",
              "      <td>0.233449</td>\n",
              "      <td>14.317073</td>\n",
              "      <td>0.761905</td>\n",
              "    </tr>\n",
              "    <tr>\n",
              "      <th>std</th>\n",
              "      <td>811.660888</td>\n",
              "      <td>15.321661</td>\n",
              "      <td>0.500215</td>\n",
              "      <td>0.423272</td>\n",
              "      <td>12.096532</td>\n",
              "      <td>0.426165</td>\n",
              "    </tr>\n",
              "    <tr>\n",
              "      <th>min</th>\n",
              "      <td>128.000000</td>\n",
              "      <td>0.000000</td>\n",
              "      <td>0.000000</td>\n",
              "      <td>0.000000</td>\n",
              "      <td>1.000000</td>\n",
              "      <td>0.000000</td>\n",
              "    </tr>\n",
              "    <tr>\n",
              "      <th>25%</th>\n",
              "      <td>641.000000</td>\n",
              "      <td>42.000000</td>\n",
              "      <td>0.000000</td>\n",
              "      <td>0.000000</td>\n",
              "      <td>4.000000</td>\n",
              "      <td>1.000000</td>\n",
              "    </tr>\n",
              "    <tr>\n",
              "      <th>50%</th>\n",
              "      <td>1070.000000</td>\n",
              "      <td>53.000000</td>\n",
              "      <td>1.000000</td>\n",
              "      <td>0.000000</td>\n",
              "      <td>11.000000</td>\n",
              "      <td>1.000000</td>\n",
              "    </tr>\n",
              "    <tr>\n",
              "      <th>75%</th>\n",
              "      <td>1159.000000</td>\n",
              "      <td>65.000000</td>\n",
              "      <td>1.000000</td>\n",
              "      <td>0.000000</td>\n",
              "      <td>23.000000</td>\n",
              "      <td>1.000000</td>\n",
              "    </tr>\n",
              "    <tr>\n",
              "      <th>max</th>\n",
              "      <td>5692.000000</td>\n",
              "      <td>93.000000</td>\n",
              "      <td>1.000000</td>\n",
              "      <td>1.000000</td>\n",
              "      <td>44.000000</td>\n",
              "      <td>1.000000</td>\n",
              "    </tr>\n",
              "  </tbody>\n",
              "</table>\n",
              "</div>"
            ],
            "text/plain": [
              "           unidade       idade        sexo      status       tempo      grande\n",
              "count   861.000000  861.000000  861.000000  861.000000  861.000000  861.000000\n",
              "mean   1165.516841   52.862950    0.508711    0.233449   14.317073    0.761905\n",
              "std     811.660888   15.321661    0.500215    0.423272   12.096532    0.426165\n",
              "min     128.000000    0.000000    0.000000    0.000000    1.000000    0.000000\n",
              "25%     641.000000   42.000000    0.000000    0.000000    4.000000    1.000000\n",
              "50%    1070.000000   53.000000    1.000000    0.000000   11.000000    1.000000\n",
              "75%    1159.000000   65.000000    1.000000    0.000000   23.000000    1.000000\n",
              "max    5692.000000   93.000000    1.000000    1.000000   44.000000    1.000000"
            ]
          },
          "metadata": {
            "tags": []
          },
          "execution_count": 8
        }
      ]
    },
    {
      "cell_type": "code",
      "metadata": {
        "id": "PF-VvKasdFeq"
      },
      "source": [
        "kmf = KaplanMeierFitter()"
      ],
      "execution_count": 9,
      "outputs": []
    },
    {
      "cell_type": "code",
      "metadata": {
        "id": "kKpjWfCpdF4m",
        "colab": {
          "base_uri": "https://localhost:8080/"
        },
        "outputId": "2d52e4d2-d410-4a57-d96b-2c760c5b5cdf"
      },
      "source": [
        "kmf"
      ],
      "execution_count": 10,
      "outputs": [
        {
          "output_type": "execute_result",
          "data": {
            "text/plain": [
              "<lifelines.KaplanMeierFitter>"
            ]
          },
          "metadata": {
            "tags": []
          },
          "execution_count": 10
        }
      ]
    },
    {
      "cell_type": "code",
      "metadata": {
        "id": "ZQBljWbgdGoO"
      },
      "source": [
        "# Criação de uma coluna morte para organizar os dados, é necessário saber quem está vivo e quem não está\n",
        "# Na coluna status 0 represena censurado e 1 representa morto. Portanto, todos que são 1 estão mortos e o 0 seria vivo.\n",
        "# Para a coluna morto, 0 representa morto\n",
        "\n",
        "df.loc[df['status'] ==1, 'morto'] = 0\n",
        "df.loc[df['status'] == 0, 'morto'] = 1"
      ],
      "execution_count": 11,
      "outputs": []
    },
    {
      "cell_type": "code",
      "metadata": {
        "id": "hGyR0H3Ad17G",
        "colab": {
          "base_uri": "https://localhost:8080/",
          "height": 203
        },
        "outputId": "e7f99da5-a5d3-48e0-dce3-4d439dc19f7f"
      },
      "source": [
        "df.head()"
      ],
      "execution_count": 12,
      "outputs": [
        {
          "output_type": "execute_result",
          "data": {
            "text/html": [
              "<div>\n",
              "<style scoped>\n",
              "    .dataframe tbody tr th:only-of-type {\n",
              "        vertical-align: middle;\n",
              "    }\n",
              "\n",
              "    .dataframe tbody tr th {\n",
              "        vertical-align: top;\n",
              "    }\n",
              "\n",
              "    .dataframe thead th {\n",
              "        text-align: right;\n",
              "    }\n",
              "</style>\n",
              "<table border=\"1\" class=\"dataframe\">\n",
              "  <thead>\n",
              "    <tr style=\"text-align: right;\">\n",
              "      <th></th>\n",
              "      <th>unidade</th>\n",
              "      <th>idade</th>\n",
              "      <th>sexo</th>\n",
              "      <th>status</th>\n",
              "      <th>tempo</th>\n",
              "      <th>grande</th>\n",
              "      <th>causa</th>\n",
              "      <th>morto</th>\n",
              "    </tr>\n",
              "  </thead>\n",
              "  <tbody>\n",
              "    <tr>\n",
              "      <th>0</th>\n",
              "      <td>128</td>\n",
              "      <td>52</td>\n",
              "      <td>1</td>\n",
              "      <td>0</td>\n",
              "      <td>19</td>\n",
              "      <td>1</td>\n",
              "      <td>out</td>\n",
              "      <td>1.0</td>\n",
              "    </tr>\n",
              "    <tr>\n",
              "      <th>1</th>\n",
              "      <td>128</td>\n",
              "      <td>76</td>\n",
              "      <td>0</td>\n",
              "      <td>0</td>\n",
              "      <td>1</td>\n",
              "      <td>1</td>\n",
              "      <td>out</td>\n",
              "      <td>1.0</td>\n",
              "    </tr>\n",
              "    <tr>\n",
              "      <th>2</th>\n",
              "      <td>128</td>\n",
              "      <td>61</td>\n",
              "      <td>1</td>\n",
              "      <td>0</td>\n",
              "      <td>2</td>\n",
              "      <td>1</td>\n",
              "      <td>out</td>\n",
              "      <td>1.0</td>\n",
              "    </tr>\n",
              "    <tr>\n",
              "      <th>3</th>\n",
              "      <td>128</td>\n",
              "      <td>35</td>\n",
              "      <td>0</td>\n",
              "      <td>0</td>\n",
              "      <td>6</td>\n",
              "      <td>1</td>\n",
              "      <td>out</td>\n",
              "      <td>1.0</td>\n",
              "    </tr>\n",
              "    <tr>\n",
              "      <th>4</th>\n",
              "      <td>128</td>\n",
              "      <td>42</td>\n",
              "      <td>0</td>\n",
              "      <td>0</td>\n",
              "      <td>11</td>\n",
              "      <td>1</td>\n",
              "      <td>out</td>\n",
              "      <td>1.0</td>\n",
              "    </tr>\n",
              "  </tbody>\n",
              "</table>\n",
              "</div>"
            ],
            "text/plain": [
              "   unidade  idade  sexo  status  tempo  grande causa  morto\n",
              "0      128     52     1       0     19       1   out    1.0\n",
              "1      128     76     0       0      1       1   out    1.0\n",
              "2      128     61     1       0      2       1   out    1.0\n",
              "3      128     35     0       0      6       1   out    1.0\n",
              "4      128     42     0       0     11       1   out    1.0"
            ]
          },
          "metadata": {
            "tags": []
          },
          "execution_count": 12
        }
      ]
    },
    {
      "cell_type": "code",
      "metadata": {
        "id": "yKQwYDj7eumF",
        "colab": {
          "base_uri": "https://localhost:8080/"
        },
        "outputId": "77b0ec1d-9c81-40a1-83c3-02155e607605"
      },
      "source": [
        "#objetivo é descobrir o número de dias que um paciente sobreviveu antes de morrer. Nosso evento de interesse será “morte”, que\n",
        "# é armazenado na coluna “morto”. O primeiro argumento que leva é a linha do tempo para nosso experimento.\n",
        "kmf.fit(durations = df['tempo'], event_observed = df['morto'])"
      ],
      "execution_count": 13,
      "outputs": [
        {
          "output_type": "execute_result",
          "data": {
            "text/plain": [
              "<lifelines.KaplanMeierFitter:\"KM_estimate\", fitted with 861 total observations, 201 right-censored observations>"
            ]
          },
          "metadata": {
            "tags": []
          },
          "execution_count": 13
        }
      ]
    },
    {
      "cell_type": "code",
      "metadata": {
        "id": "qQYnlL5qfYA9",
        "colab": {
          "base_uri": "https://localhost:8080/",
          "height": 1000
        },
        "outputId": "cbf45543-76e0-4896-c18a-8aa23f23b90c"
      },
      "source": [
        "kmf.event_table"
      ],
      "execution_count": 14,
      "outputs": [
        {
          "output_type": "execute_result",
          "data": {
            "text/html": [
              "<div>\n",
              "<style scoped>\n",
              "    .dataframe tbody tr th:only-of-type {\n",
              "        vertical-align: middle;\n",
              "    }\n",
              "\n",
              "    .dataframe tbody tr th {\n",
              "        vertical-align: top;\n",
              "    }\n",
              "\n",
              "    .dataframe thead th {\n",
              "        text-align: right;\n",
              "    }\n",
              "</style>\n",
              "<table border=\"1\" class=\"dataframe\">\n",
              "  <thead>\n",
              "    <tr style=\"text-align: right;\">\n",
              "      <th></th>\n",
              "      <th>removed</th>\n",
              "      <th>observed</th>\n",
              "      <th>censored</th>\n",
              "      <th>entrance</th>\n",
              "      <th>at_risk</th>\n",
              "    </tr>\n",
              "    <tr>\n",
              "      <th>event_at</th>\n",
              "      <th></th>\n",
              "      <th></th>\n",
              "      <th></th>\n",
              "      <th></th>\n",
              "      <th></th>\n",
              "    </tr>\n",
              "  </thead>\n",
              "  <tbody>\n",
              "    <tr>\n",
              "      <th>0.0</th>\n",
              "      <td>0</td>\n",
              "      <td>0</td>\n",
              "      <td>0</td>\n",
              "      <td>861</td>\n",
              "      <td>861</td>\n",
              "    </tr>\n",
              "    <tr>\n",
              "      <th>1.0</th>\n",
              "      <td>62</td>\n",
              "      <td>40</td>\n",
              "      <td>22</td>\n",
              "      <td>0</td>\n",
              "      <td>861</td>\n",
              "    </tr>\n",
              "    <tr>\n",
              "      <th>2.0</th>\n",
              "      <td>89</td>\n",
              "      <td>57</td>\n",
              "      <td>32</td>\n",
              "      <td>0</td>\n",
              "      <td>799</td>\n",
              "    </tr>\n",
              "    <tr>\n",
              "      <th>3.0</th>\n",
              "      <td>62</td>\n",
              "      <td>48</td>\n",
              "      <td>14</td>\n",
              "      <td>0</td>\n",
              "      <td>710</td>\n",
              "    </tr>\n",
              "    <tr>\n",
              "      <th>4.0</th>\n",
              "      <td>37</td>\n",
              "      <td>19</td>\n",
              "      <td>18</td>\n",
              "      <td>0</td>\n",
              "      <td>648</td>\n",
              "    </tr>\n",
              "    <tr>\n",
              "      <th>5.0</th>\n",
              "      <td>28</td>\n",
              "      <td>19</td>\n",
              "      <td>9</td>\n",
              "      <td>0</td>\n",
              "      <td>611</td>\n",
              "    </tr>\n",
              "    <tr>\n",
              "      <th>6.0</th>\n",
              "      <td>30</td>\n",
              "      <td>22</td>\n",
              "      <td>8</td>\n",
              "      <td>0</td>\n",
              "      <td>583</td>\n",
              "    </tr>\n",
              "    <tr>\n",
              "      <th>7.0</th>\n",
              "      <td>27</td>\n",
              "      <td>17</td>\n",
              "      <td>10</td>\n",
              "      <td>0</td>\n",
              "      <td>553</td>\n",
              "    </tr>\n",
              "    <tr>\n",
              "      <th>8.0</th>\n",
              "      <td>32</td>\n",
              "      <td>24</td>\n",
              "      <td>8</td>\n",
              "      <td>0</td>\n",
              "      <td>526</td>\n",
              "    </tr>\n",
              "    <tr>\n",
              "      <th>9.0</th>\n",
              "      <td>17</td>\n",
              "      <td>11</td>\n",
              "      <td>6</td>\n",
              "      <td>0</td>\n",
              "      <td>494</td>\n",
              "    </tr>\n",
              "    <tr>\n",
              "      <th>10.0</th>\n",
              "      <td>37</td>\n",
              "      <td>29</td>\n",
              "      <td>8</td>\n",
              "      <td>0</td>\n",
              "      <td>477</td>\n",
              "    </tr>\n",
              "    <tr>\n",
              "      <th>11.0</th>\n",
              "      <td>17</td>\n",
              "      <td>13</td>\n",
              "      <td>4</td>\n",
              "      <td>0</td>\n",
              "      <td>440</td>\n",
              "    </tr>\n",
              "    <tr>\n",
              "      <th>12.0</th>\n",
              "      <td>37</td>\n",
              "      <td>27</td>\n",
              "      <td>10</td>\n",
              "      <td>0</td>\n",
              "      <td>423</td>\n",
              "    </tr>\n",
              "    <tr>\n",
              "      <th>13.0</th>\n",
              "      <td>29</td>\n",
              "      <td>23</td>\n",
              "      <td>6</td>\n",
              "      <td>0</td>\n",
              "      <td>386</td>\n",
              "    </tr>\n",
              "    <tr>\n",
              "      <th>14.0</th>\n",
              "      <td>19</td>\n",
              "      <td>12</td>\n",
              "      <td>7</td>\n",
              "      <td>0</td>\n",
              "      <td>357</td>\n",
              "    </tr>\n",
              "    <tr>\n",
              "      <th>15.0</th>\n",
              "      <td>16</td>\n",
              "      <td>14</td>\n",
              "      <td>2</td>\n",
              "      <td>0</td>\n",
              "      <td>338</td>\n",
              "    </tr>\n",
              "    <tr>\n",
              "      <th>16.0</th>\n",
              "      <td>10</td>\n",
              "      <td>6</td>\n",
              "      <td>4</td>\n",
              "      <td>0</td>\n",
              "      <td>322</td>\n",
              "    </tr>\n",
              "    <tr>\n",
              "      <th>17.0</th>\n",
              "      <td>22</td>\n",
              "      <td>18</td>\n",
              "      <td>4</td>\n",
              "      <td>0</td>\n",
              "      <td>312</td>\n",
              "    </tr>\n",
              "    <tr>\n",
              "      <th>18.0</th>\n",
              "      <td>20</td>\n",
              "      <td>16</td>\n",
              "      <td>4</td>\n",
              "      <td>0</td>\n",
              "      <td>290</td>\n",
              "    </tr>\n",
              "    <tr>\n",
              "      <th>19.0</th>\n",
              "      <td>19</td>\n",
              "      <td>16</td>\n",
              "      <td>3</td>\n",
              "      <td>0</td>\n",
              "      <td>270</td>\n",
              "    </tr>\n",
              "    <tr>\n",
              "      <th>20.0</th>\n",
              "      <td>17</td>\n",
              "      <td>14</td>\n",
              "      <td>3</td>\n",
              "      <td>0</td>\n",
              "      <td>251</td>\n",
              "    </tr>\n",
              "    <tr>\n",
              "      <th>21.0</th>\n",
              "      <td>7</td>\n",
              "      <td>7</td>\n",
              "      <td>0</td>\n",
              "      <td>0</td>\n",
              "      <td>234</td>\n",
              "    </tr>\n",
              "    <tr>\n",
              "      <th>22.0</th>\n",
              "      <td>11</td>\n",
              "      <td>9</td>\n",
              "      <td>2</td>\n",
              "      <td>0</td>\n",
              "      <td>227</td>\n",
              "    </tr>\n",
              "    <tr>\n",
              "      <th>23.0</th>\n",
              "      <td>15</td>\n",
              "      <td>15</td>\n",
              "      <td>0</td>\n",
              "      <td>0</td>\n",
              "      <td>216</td>\n",
              "    </tr>\n",
              "    <tr>\n",
              "      <th>24.0</th>\n",
              "      <td>15</td>\n",
              "      <td>13</td>\n",
              "      <td>2</td>\n",
              "      <td>0</td>\n",
              "      <td>201</td>\n",
              "    </tr>\n",
              "    <tr>\n",
              "      <th>25.0</th>\n",
              "      <td>10</td>\n",
              "      <td>8</td>\n",
              "      <td>2</td>\n",
              "      <td>0</td>\n",
              "      <td>186</td>\n",
              "    </tr>\n",
              "    <tr>\n",
              "      <th>26.0</th>\n",
              "      <td>12</td>\n",
              "      <td>12</td>\n",
              "      <td>0</td>\n",
              "      <td>0</td>\n",
              "      <td>176</td>\n",
              "    </tr>\n",
              "    <tr>\n",
              "      <th>27.0</th>\n",
              "      <td>10</td>\n",
              "      <td>10</td>\n",
              "      <td>0</td>\n",
              "      <td>0</td>\n",
              "      <td>164</td>\n",
              "    </tr>\n",
              "    <tr>\n",
              "      <th>28.0</th>\n",
              "      <td>16</td>\n",
              "      <td>13</td>\n",
              "      <td>3</td>\n",
              "      <td>0</td>\n",
              "      <td>154</td>\n",
              "    </tr>\n",
              "    <tr>\n",
              "      <th>29.0</th>\n",
              "      <td>11</td>\n",
              "      <td>10</td>\n",
              "      <td>1</td>\n",
              "      <td>0</td>\n",
              "      <td>138</td>\n",
              "    </tr>\n",
              "    <tr>\n",
              "      <th>30.0</th>\n",
              "      <td>13</td>\n",
              "      <td>11</td>\n",
              "      <td>2</td>\n",
              "      <td>0</td>\n",
              "      <td>127</td>\n",
              "    </tr>\n",
              "    <tr>\n",
              "      <th>31.0</th>\n",
              "      <td>4</td>\n",
              "      <td>4</td>\n",
              "      <td>0</td>\n",
              "      <td>0</td>\n",
              "      <td>114</td>\n",
              "    </tr>\n",
              "    <tr>\n",
              "      <th>32.0</th>\n",
              "      <td>11</td>\n",
              "      <td>11</td>\n",
              "      <td>0</td>\n",
              "      <td>0</td>\n",
              "      <td>110</td>\n",
              "    </tr>\n",
              "    <tr>\n",
              "      <th>33.0</th>\n",
              "      <td>9</td>\n",
              "      <td>6</td>\n",
              "      <td>3</td>\n",
              "      <td>0</td>\n",
              "      <td>99</td>\n",
              "    </tr>\n",
              "    <tr>\n",
              "      <th>34.0</th>\n",
              "      <td>3</td>\n",
              "      <td>3</td>\n",
              "      <td>0</td>\n",
              "      <td>0</td>\n",
              "      <td>90</td>\n",
              "    </tr>\n",
              "    <tr>\n",
              "      <th>35.0</th>\n",
              "      <td>10</td>\n",
              "      <td>10</td>\n",
              "      <td>0</td>\n",
              "      <td>0</td>\n",
              "      <td>87</td>\n",
              "    </tr>\n",
              "    <tr>\n",
              "      <th>36.0</th>\n",
              "      <td>9</td>\n",
              "      <td>7</td>\n",
              "      <td>2</td>\n",
              "      <td>0</td>\n",
              "      <td>77</td>\n",
              "    </tr>\n",
              "    <tr>\n",
              "      <th>37.0</th>\n",
              "      <td>8</td>\n",
              "      <td>7</td>\n",
              "      <td>1</td>\n",
              "      <td>0</td>\n",
              "      <td>68</td>\n",
              "    </tr>\n",
              "    <tr>\n",
              "      <th>38.0</th>\n",
              "      <td>16</td>\n",
              "      <td>16</td>\n",
              "      <td>0</td>\n",
              "      <td>0</td>\n",
              "      <td>60</td>\n",
              "    </tr>\n",
              "    <tr>\n",
              "      <th>39.0</th>\n",
              "      <td>6</td>\n",
              "      <td>6</td>\n",
              "      <td>0</td>\n",
              "      <td>0</td>\n",
              "      <td>44</td>\n",
              "    </tr>\n",
              "    <tr>\n",
              "      <th>40.0</th>\n",
              "      <td>7</td>\n",
              "      <td>7</td>\n",
              "      <td>0</td>\n",
              "      <td>0</td>\n",
              "      <td>38</td>\n",
              "    </tr>\n",
              "    <tr>\n",
              "      <th>41.0</th>\n",
              "      <td>12</td>\n",
              "      <td>11</td>\n",
              "      <td>1</td>\n",
              "      <td>0</td>\n",
              "      <td>31</td>\n",
              "    </tr>\n",
              "    <tr>\n",
              "      <th>42.0</th>\n",
              "      <td>8</td>\n",
              "      <td>8</td>\n",
              "      <td>0</td>\n",
              "      <td>0</td>\n",
              "      <td>19</td>\n",
              "    </tr>\n",
              "    <tr>\n",
              "      <th>43.0</th>\n",
              "      <td>6</td>\n",
              "      <td>6</td>\n",
              "      <td>0</td>\n",
              "      <td>0</td>\n",
              "      <td>11</td>\n",
              "    </tr>\n",
              "    <tr>\n",
              "      <th>44.0</th>\n",
              "      <td>5</td>\n",
              "      <td>5</td>\n",
              "      <td>0</td>\n",
              "      <td>0</td>\n",
              "      <td>5</td>\n",
              "    </tr>\n",
              "  </tbody>\n",
              "</table>\n",
              "</div>"
            ],
            "text/plain": [
              "          removed  observed  censored  entrance  at_risk\n",
              "event_at                                                \n",
              "0.0             0         0         0       861      861\n",
              "1.0            62        40        22         0      861\n",
              "2.0            89        57        32         0      799\n",
              "3.0            62        48        14         0      710\n",
              "4.0            37        19        18         0      648\n",
              "5.0            28        19         9         0      611\n",
              "6.0            30        22         8         0      583\n",
              "7.0            27        17        10         0      553\n",
              "8.0            32        24         8         0      526\n",
              "9.0            17        11         6         0      494\n",
              "10.0           37        29         8         0      477\n",
              "11.0           17        13         4         0      440\n",
              "12.0           37        27        10         0      423\n",
              "13.0           29        23         6         0      386\n",
              "14.0           19        12         7         0      357\n",
              "15.0           16        14         2         0      338\n",
              "16.0           10         6         4         0      322\n",
              "17.0           22        18         4         0      312\n",
              "18.0           20        16         4         0      290\n",
              "19.0           19        16         3         0      270\n",
              "20.0           17        14         3         0      251\n",
              "21.0            7         7         0         0      234\n",
              "22.0           11         9         2         0      227\n",
              "23.0           15        15         0         0      216\n",
              "24.0           15        13         2         0      201\n",
              "25.0           10         8         2         0      186\n",
              "26.0           12        12         0         0      176\n",
              "27.0           10        10         0         0      164\n",
              "28.0           16        13         3         0      154\n",
              "29.0           11        10         1         0      138\n",
              "30.0           13        11         2         0      127\n",
              "31.0            4         4         0         0      114\n",
              "32.0           11        11         0         0      110\n",
              "33.0            9         6         3         0       99\n",
              "34.0            3         3         0         0       90\n",
              "35.0           10        10         0         0       87\n",
              "36.0            9         7         2         0       77\n",
              "37.0            8         7         1         0       68\n",
              "38.0           16        16         0         0       60\n",
              "39.0            6         6         0         0       44\n",
              "40.0            7         7         0         0       38\n",
              "41.0           12        11         1         0       31\n",
              "42.0            8         8         0         0       19\n",
              "43.0            6         6         0         0       11\n",
              "44.0            5         5         0         0        5"
            ]
          },
          "metadata": {
            "tags": []
          },
          "execution_count": 14
        }
      ]
    },
    {
      "cell_type": "code",
      "metadata": {
        "id": "wLSsYl_gfhJF"
      },
      "source": [
        "# Probabilidade  de sobrevivência em t=0\n",
        "\n",
        "event_at_0  = kmf.event_table.iloc[0,:]\n",
        "\n",
        "# Calculando a probabilidade de sobrevivência para t =0\n",
        "\n",
        "surv_for_0= (event_at_0.at_risk - event_at_0.observed)/event_at_0.at_risk\n"
      ],
      "execution_count": 15,
      "outputs": []
    },
    {
      "cell_type": "code",
      "metadata": {
        "id": "DARsuUhPUk2m",
        "colab": {
          "base_uri": "https://localhost:8080/"
        },
        "outputId": "e2bfa13c-54bd-4291-d457-7d83ce3f4a3f"
      },
      "source": [
        "surv_for_0"
      ],
      "execution_count": 16,
      "outputs": [
        {
          "output_type": "execute_result",
          "data": {
            "text/plain": [
              "1.0"
            ]
          },
          "metadata": {
            "tags": []
          },
          "execution_count": 16
        }
      ]
    },
    {
      "cell_type": "code",
      "metadata": {
        "id": "nd-d-RO9U1W_"
      },
      "source": [
        "# Probabilidade  de sobrevivência em t=0\n",
        "\n",
        "event_at_10  = kmf.event_table.iloc[1,:]\n",
        "\n",
        "# Calculando a probabilidade de sobrevivência para t =0\n",
        "\n",
        "surv_for_10= (event_at_10.at_risk - event_at_10.observed)/event_at_10.at_risk\n"
      ],
      "execution_count": 17,
      "outputs": []
    },
    {
      "cell_type": "code",
      "metadata": {
        "id": "QORqFckdVDWn",
        "colab": {
          "base_uri": "https://localhost:8080/"
        },
        "outputId": "33e9ace4-31dc-4ce3-b58a-4ec276807e3a"
      },
      "source": [
        "surv_for_10"
      ],
      "execution_count": 18,
      "outputs": [
        {
          "output_type": "execute_result",
          "data": {
            "text/plain": [
              "0.9535423925667829"
            ]
          },
          "metadata": {
            "tags": []
          },
          "execution_count": 18
        }
      ]
    },
    {
      "cell_type": "code",
      "metadata": {
        "id": "692h2636VDzH",
        "colab": {
          "base_uri": "https://localhost:8080/"
        },
        "outputId": "09a527b2-4a84-47ca-aed4-c09d9c6e8f42"
      },
      "source": [
        " # Obter a probabilidade de sobrevivência para toda a linha do tempo:\n",
        "\n",
        " print(kmf.survival_function_)"
      ],
      "execution_count": 19,
      "outputs": [
        {
          "output_type": "stream",
          "text": [
            "          KM_estimate\n",
            "timeline             \n",
            "0.0          1.000000\n",
            "1.0          0.953542\n",
            "2.0          0.885517\n",
            "3.0          0.825651\n",
            "4.0          0.801443\n",
            "5.0          0.776520\n",
            "6.0          0.747218\n",
            "7.0          0.724247\n",
            "8.0          0.691202\n",
            "9.0          0.675811\n",
            "10.0         0.634724\n",
            "11.0         0.615970\n",
            "12.0         0.576653\n",
            "13.0         0.542293\n",
            "14.0         0.524065\n",
            "15.0         0.502358\n",
            "16.0         0.492997\n",
            "17.0         0.464555\n",
            "18.0         0.438924\n",
            "19.0         0.412914\n",
            "20.0         0.389883\n",
            "21.0         0.378220\n",
            "22.0         0.363224\n",
            "23.0         0.338000\n",
            "24.0         0.316140\n",
            "25.0         0.302542\n",
            "26.0         0.281914\n",
            "27.0         0.264724\n",
            "28.0         0.242378\n",
            "29.0         0.224814\n",
            "30.0         0.205342\n",
            "31.0         0.198137\n",
            "32.0         0.178323\n",
            "33.0         0.167516\n",
            "34.0         0.161932\n",
            "35.0         0.143319\n",
            "36.0         0.130290\n",
            "37.0         0.116878\n",
            "38.0         0.085710\n",
            "39.0         0.074023\n",
            "40.0         0.060387\n",
            "41.0         0.038959\n",
            "42.0         0.022555\n",
            "43.0         0.010252\n",
            "44.0         0.000000\n"
          ],
          "name": "stdout"
        }
      ]
    },
    {
      "cell_type": "code",
      "metadata": {
        "id": "uwbXmuI3ottH",
        "colab": {
          "base_uri": "https://localhost:8080/",
          "height": 312
        },
        "outputId": "e797ac72-abac-4008-f03c-23c93fa133dc"
      },
      "source": [
        "kmf.plot() \n",
        "plt.title(\"Estimador de Kaplan-Meier\") \n",
        "plt.xlabel(\"Número de dias\") \n",
        "plt.ylabel(\"Probabilidade de Sobrevivência\")"
      ],
      "execution_count": 20,
      "outputs": [
        {
          "output_type": "execute_result",
          "data": {
            "text/plain": [
              "Text(0, 0.5, 'Probabilidade de Sobrevivência')"
            ]
          },
          "metadata": {
            "tags": []
          },
          "execution_count": 20
        },
        {
          "output_type": "display_data",
          "data": {
            "image/png": "[encoded data removed]",
            "text/plain": [
              "<Figure size 432x288 with 1 Axes>"
            ]
          },
          "metadata": {
            "tags": [],
            "needs_background": "light"
          }
        }
      ]
    },
    {
      "cell_type": "code",
      "metadata": {
        "id": "ucueDlXipNX7",
        "colab": {
          "base_uri": "https://localhost:8080/"
        },
        "outputId": "d1d54d49-3229-4754-c1e1-87771f59e383"
      },
      "source": [
        "# O número médio de dias de sobrevivência:\n",
        "\n",
        "print(\"O tempo médio de sobrevivência é: \", kmf.median_survival_time_)"
      ],
      "execution_count": 21,
      "outputs": [
        {
          "output_type": "stream",
          "text": [
            "O tempo médio de sobrevivência é:  16.0\n"
          ],
          "name": "stdout"
        }
      ]
    },
    {
      "cell_type": "markdown",
      "metadata": {
        "id": "EvPbhR0w_UZl"
      },
      "source": [
        "Estimador Kaplan Meier com dois grupos"
      ]
    },
    {
      "cell_type": "code",
      "metadata": {
        "id": "RQT0mjz__TwR"
      },
      "source": [
        "# Divindindo os dados em dois grupos\n",
        "masculino =  df[(df['sexo']==1)]\n",
        "feminino =  df[(df['sexo']==0)]"
      ],
      "execution_count": 22,
      "outputs": []
    },
    {
      "cell_type": "code",
      "metadata": {
        "id": "DjYoR6iNEb3c"
      },
      "source": [
        "# Criação de dois objetos Kaplan Meier\n",
        "\n",
        "kmf_masculino = KaplanMeierFitter()\n",
        "kmf_feminino = KaplanMeierFitter()"
      ],
      "execution_count": 23,
      "outputs": []
    },
    {
      "cell_type": "code",
      "metadata": {
        "id": "pWYU9-zZB_QG",
        "colab": {
          "base_uri": "https://localhost:8080/"
        },
        "outputId": "27221c3d-6934-4cb2-8d81-ec6fc5f47738"
      },
      "source": [
        "# Ajustando os dados\n",
        "\n",
        "kmf_masculino.fit(durations = masculino['tempo'], event_observed = masculino['morto'], label = 'masculino')\n",
        "kmf_feminino.fit(durations = feminino['tempo'], event_observed = feminino['morto'], label = 'feminino')"
      ],
      "execution_count": 24,
      "outputs": [
        {
          "output_type": "execute_result",
          "data": {
            "text/plain": [
              "<lifelines.KaplanMeierFitter:\"feminino\", fitted with 423 total observations, 109 right-censored observations>"
            ]
          },
          "metadata": {
            "tags": []
          },
          "execution_count": 24
        }
      ]
    },
    {
      "cell_type": "code",
      "metadata": {
        "id": "1GMDNVUKDyOb",
        "colab": {
          "base_uri": "https://localhost:8080/",
          "height": 1000
        },
        "outputId": "96dab2a6-16d2-4240-c4f2-7f5bd55251e3"
      },
      "source": [
        "# Mesa de eventos\n",
        "\n",
        "kmf_masculino.event_table\n",
        "kmf_feminino.event_table"
      ],
      "execution_count": 25,
      "outputs": [
        {
          "output_type": "execute_result",
          "data": {
            "text/html": [
              "<div>\n",
              "<style scoped>\n",
              "    .dataframe tbody tr th:only-of-type {\n",
              "        vertical-align: middle;\n",
              "    }\n",
              "\n",
              "    .dataframe tbody tr th {\n",
              "        vertical-align: top;\n",
              "    }\n",
              "\n",
              "    .dataframe thead th {\n",
              "        text-align: right;\n",
              "    }\n",
              "</style>\n",
              "<table border=\"1\" class=\"dataframe\">\n",
              "  <thead>\n",
              "    <tr style=\"text-align: right;\">\n",
              "      <th></th>\n",
              "      <th>removed</th>\n",
              "      <th>observed</th>\n",
              "      <th>censored</th>\n",
              "      <th>entrance</th>\n",
              "      <th>at_risk</th>\n",
              "    </tr>\n",
              "    <tr>\n",
              "      <th>event_at</th>\n",
              "      <th></th>\n",
              "      <th></th>\n",
              "      <th></th>\n",
              "      <th></th>\n",
              "      <th></th>\n",
              "    </tr>\n",
              "  </thead>\n",
              "  <tbody>\n",
              "    <tr>\n",
              "      <th>0.0</th>\n",
              "      <td>0</td>\n",
              "      <td>0</td>\n",
              "      <td>0</td>\n",
              "      <td>423</td>\n",
              "      <td>423</td>\n",
              "    </tr>\n",
              "    <tr>\n",
              "      <th>1.0</th>\n",
              "      <td>29</td>\n",
              "      <td>20</td>\n",
              "      <td>9</td>\n",
              "      <td>0</td>\n",
              "      <td>423</td>\n",
              "    </tr>\n",
              "    <tr>\n",
              "      <th>2.0</th>\n",
              "      <td>46</td>\n",
              "      <td>28</td>\n",
              "      <td>18</td>\n",
              "      <td>0</td>\n",
              "      <td>394</td>\n",
              "    </tr>\n",
              "    <tr>\n",
              "      <th>3.0</th>\n",
              "      <td>25</td>\n",
              "      <td>18</td>\n",
              "      <td>7</td>\n",
              "      <td>0</td>\n",
              "      <td>348</td>\n",
              "    </tr>\n",
              "    <tr>\n",
              "      <th>4.0</th>\n",
              "      <td>18</td>\n",
              "      <td>7</td>\n",
              "      <td>11</td>\n",
              "      <td>0</td>\n",
              "      <td>323</td>\n",
              "    </tr>\n",
              "    <tr>\n",
              "      <th>5.0</th>\n",
              "      <td>12</td>\n",
              "      <td>9</td>\n",
              "      <td>3</td>\n",
              "      <td>0</td>\n",
              "      <td>305</td>\n",
              "    </tr>\n",
              "    <tr>\n",
              "      <th>6.0</th>\n",
              "      <td>13</td>\n",
              "      <td>8</td>\n",
              "      <td>5</td>\n",
              "      <td>0</td>\n",
              "      <td>293</td>\n",
              "    </tr>\n",
              "    <tr>\n",
              "      <th>7.0</th>\n",
              "      <td>14</td>\n",
              "      <td>7</td>\n",
              "      <td>7</td>\n",
              "      <td>0</td>\n",
              "      <td>280</td>\n",
              "    </tr>\n",
              "    <tr>\n",
              "      <th>8.0</th>\n",
              "      <td>18</td>\n",
              "      <td>11</td>\n",
              "      <td>7</td>\n",
              "      <td>0</td>\n",
              "      <td>266</td>\n",
              "    </tr>\n",
              "    <tr>\n",
              "      <th>9.0</th>\n",
              "      <td>7</td>\n",
              "      <td>5</td>\n",
              "      <td>2</td>\n",
              "      <td>0</td>\n",
              "      <td>248</td>\n",
              "    </tr>\n",
              "    <tr>\n",
              "      <th>10.0</th>\n",
              "      <td>18</td>\n",
              "      <td>13</td>\n",
              "      <td>5</td>\n",
              "      <td>0</td>\n",
              "      <td>241</td>\n",
              "    </tr>\n",
              "    <tr>\n",
              "      <th>11.0</th>\n",
              "      <td>10</td>\n",
              "      <td>9</td>\n",
              "      <td>1</td>\n",
              "      <td>0</td>\n",
              "      <td>223</td>\n",
              "    </tr>\n",
              "    <tr>\n",
              "      <th>12.0</th>\n",
              "      <td>16</td>\n",
              "      <td>11</td>\n",
              "      <td>5</td>\n",
              "      <td>0</td>\n",
              "      <td>213</td>\n",
              "    </tr>\n",
              "    <tr>\n",
              "      <th>13.0</th>\n",
              "      <td>15</td>\n",
              "      <td>12</td>\n",
              "      <td>3</td>\n",
              "      <td>0</td>\n",
              "      <td>197</td>\n",
              "    </tr>\n",
              "    <tr>\n",
              "      <th>14.0</th>\n",
              "      <td>7</td>\n",
              "      <td>4</td>\n",
              "      <td>3</td>\n",
              "      <td>0</td>\n",
              "      <td>182</td>\n",
              "    </tr>\n",
              "    <tr>\n",
              "      <th>15.0</th>\n",
              "      <td>6</td>\n",
              "      <td>5</td>\n",
              "      <td>1</td>\n",
              "      <td>0</td>\n",
              "      <td>175</td>\n",
              "    </tr>\n",
              "    <tr>\n",
              "      <th>16.0</th>\n",
              "      <td>5</td>\n",
              "      <td>4</td>\n",
              "      <td>1</td>\n",
              "      <td>0</td>\n",
              "      <td>169</td>\n",
              "    </tr>\n",
              "    <tr>\n",
              "      <th>17.0</th>\n",
              "      <td>16</td>\n",
              "      <td>14</td>\n",
              "      <td>2</td>\n",
              "      <td>0</td>\n",
              "      <td>164</td>\n",
              "    </tr>\n",
              "    <tr>\n",
              "      <th>18.0</th>\n",
              "      <td>10</td>\n",
              "      <td>7</td>\n",
              "      <td>3</td>\n",
              "      <td>0</td>\n",
              "      <td>148</td>\n",
              "    </tr>\n",
              "    <tr>\n",
              "      <th>19.0</th>\n",
              "      <td>10</td>\n",
              "      <td>8</td>\n",
              "      <td>2</td>\n",
              "      <td>0</td>\n",
              "      <td>138</td>\n",
              "    </tr>\n",
              "    <tr>\n",
              "      <th>20.0</th>\n",
              "      <td>9</td>\n",
              "      <td>8</td>\n",
              "      <td>1</td>\n",
              "      <td>0</td>\n",
              "      <td>128</td>\n",
              "    </tr>\n",
              "    <tr>\n",
              "      <th>21.0</th>\n",
              "      <td>4</td>\n",
              "      <td>4</td>\n",
              "      <td>0</td>\n",
              "      <td>0</td>\n",
              "      <td>119</td>\n",
              "    </tr>\n",
              "    <tr>\n",
              "      <th>22.0</th>\n",
              "      <td>6</td>\n",
              "      <td>4</td>\n",
              "      <td>2</td>\n",
              "      <td>0</td>\n",
              "      <td>115</td>\n",
              "    </tr>\n",
              "    <tr>\n",
              "      <th>23.0</th>\n",
              "      <td>5</td>\n",
              "      <td>5</td>\n",
              "      <td>0</td>\n",
              "      <td>0</td>\n",
              "      <td>109</td>\n",
              "    </tr>\n",
              "    <tr>\n",
              "      <th>24.0</th>\n",
              "      <td>9</td>\n",
              "      <td>8</td>\n",
              "      <td>1</td>\n",
              "      <td>0</td>\n",
              "      <td>104</td>\n",
              "    </tr>\n",
              "    <tr>\n",
              "      <th>25.0</th>\n",
              "      <td>6</td>\n",
              "      <td>5</td>\n",
              "      <td>1</td>\n",
              "      <td>0</td>\n",
              "      <td>95</td>\n",
              "    </tr>\n",
              "    <tr>\n",
              "      <th>26.0</th>\n",
              "      <td>8</td>\n",
              "      <td>8</td>\n",
              "      <td>0</td>\n",
              "      <td>0</td>\n",
              "      <td>89</td>\n",
              "    </tr>\n",
              "    <tr>\n",
              "      <th>27.0</th>\n",
              "      <td>4</td>\n",
              "      <td>4</td>\n",
              "      <td>0</td>\n",
              "      <td>0</td>\n",
              "      <td>81</td>\n",
              "    </tr>\n",
              "    <tr>\n",
              "      <th>28.0</th>\n",
              "      <td>6</td>\n",
              "      <td>3</td>\n",
              "      <td>3</td>\n",
              "      <td>0</td>\n",
              "      <td>77</td>\n",
              "    </tr>\n",
              "    <tr>\n",
              "      <th>29.0</th>\n",
              "      <td>4</td>\n",
              "      <td>3</td>\n",
              "      <td>1</td>\n",
              "      <td>0</td>\n",
              "      <td>71</td>\n",
              "    </tr>\n",
              "    <tr>\n",
              "      <th>30.0</th>\n",
              "      <td>4</td>\n",
              "      <td>3</td>\n",
              "      <td>1</td>\n",
              "      <td>0</td>\n",
              "      <td>67</td>\n",
              "    </tr>\n",
              "    <tr>\n",
              "      <th>31.0</th>\n",
              "      <td>2</td>\n",
              "      <td>2</td>\n",
              "      <td>0</td>\n",
              "      <td>0</td>\n",
              "      <td>63</td>\n",
              "    </tr>\n",
              "    <tr>\n",
              "      <th>32.0</th>\n",
              "      <td>9</td>\n",
              "      <td>9</td>\n",
              "      <td>0</td>\n",
              "      <td>0</td>\n",
              "      <td>61</td>\n",
              "    </tr>\n",
              "    <tr>\n",
              "      <th>33.0</th>\n",
              "      <td>4</td>\n",
              "      <td>3</td>\n",
              "      <td>1</td>\n",
              "      <td>0</td>\n",
              "      <td>52</td>\n",
              "    </tr>\n",
              "    <tr>\n",
              "      <th>34.0</th>\n",
              "      <td>1</td>\n",
              "      <td>1</td>\n",
              "      <td>0</td>\n",
              "      <td>0</td>\n",
              "      <td>48</td>\n",
              "    </tr>\n",
              "    <tr>\n",
              "      <th>35.0</th>\n",
              "      <td>6</td>\n",
              "      <td>6</td>\n",
              "      <td>0</td>\n",
              "      <td>0</td>\n",
              "      <td>47</td>\n",
              "    </tr>\n",
              "    <tr>\n",
              "      <th>36.0</th>\n",
              "      <td>7</td>\n",
              "      <td>5</td>\n",
              "      <td>2</td>\n",
              "      <td>0</td>\n",
              "      <td>41</td>\n",
              "    </tr>\n",
              "    <tr>\n",
              "      <th>37.0</th>\n",
              "      <td>5</td>\n",
              "      <td>5</td>\n",
              "      <td>0</td>\n",
              "      <td>0</td>\n",
              "      <td>34</td>\n",
              "    </tr>\n",
              "    <tr>\n",
              "      <th>38.0</th>\n",
              "      <td>9</td>\n",
              "      <td>9</td>\n",
              "      <td>0</td>\n",
              "      <td>0</td>\n",
              "      <td>29</td>\n",
              "    </tr>\n",
              "    <tr>\n",
              "      <th>40.0</th>\n",
              "      <td>3</td>\n",
              "      <td>3</td>\n",
              "      <td>0</td>\n",
              "      <td>0</td>\n",
              "      <td>20</td>\n",
              "    </tr>\n",
              "    <tr>\n",
              "      <th>41.0</th>\n",
              "      <td>10</td>\n",
              "      <td>9</td>\n",
              "      <td>1</td>\n",
              "      <td>0</td>\n",
              "      <td>17</td>\n",
              "    </tr>\n",
              "    <tr>\n",
              "      <th>42.0</th>\n",
              "      <td>3</td>\n",
              "      <td>3</td>\n",
              "      <td>0</td>\n",
              "      <td>0</td>\n",
              "      <td>7</td>\n",
              "    </tr>\n",
              "    <tr>\n",
              "      <th>43.0</th>\n",
              "      <td>2</td>\n",
              "      <td>2</td>\n",
              "      <td>0</td>\n",
              "      <td>0</td>\n",
              "      <td>4</td>\n",
              "    </tr>\n",
              "    <tr>\n",
              "      <th>44.0</th>\n",
              "      <td>2</td>\n",
              "      <td>2</td>\n",
              "      <td>0</td>\n",
              "      <td>0</td>\n",
              "      <td>2</td>\n",
              "    </tr>\n",
              "  </tbody>\n",
              "</table>\n",
              "</div>"
            ],
            "text/plain": [
              "          removed  observed  censored  entrance  at_risk\n",
              "event_at                                                \n",
              "0.0             0         0         0       423      423\n",
              "1.0            29        20         9         0      423\n",
              "2.0            46        28        18         0      394\n",
              "3.0            25        18         7         0      348\n",
              "4.0            18         7        11         0      323\n",
              "5.0            12         9         3         0      305\n",
              "6.0            13         8         5         0      293\n",
              "7.0            14         7         7         0      280\n",
              "8.0            18        11         7         0      266\n",
              "9.0             7         5         2         0      248\n",
              "10.0           18        13         5         0      241\n",
              "11.0           10         9         1         0      223\n",
              "12.0           16        11         5         0      213\n",
              "13.0           15        12         3         0      197\n",
              "14.0            7         4         3         0      182\n",
              "15.0            6         5         1         0      175\n",
              "16.0            5         4         1         0      169\n",
              "17.0           16        14         2         0      164\n",
              "18.0           10         7         3         0      148\n",
              "19.0           10         8         2         0      138\n",
              "20.0            9         8         1         0      128\n",
              "21.0            4         4         0         0      119\n",
              "22.0            6         4         2         0      115\n",
              "23.0            5         5         0         0      109\n",
              "24.0            9         8         1         0      104\n",
              "25.0            6         5         1         0       95\n",
              "26.0            8         8         0         0       89\n",
              "27.0            4         4         0         0       81\n",
              "28.0            6         3         3         0       77\n",
              "29.0            4         3         1         0       71\n",
              "30.0            4         3         1         0       67\n",
              "31.0            2         2         0         0       63\n",
              "32.0            9         9         0         0       61\n",
              "33.0            4         3         1         0       52\n",
              "34.0            1         1         0         0       48\n",
              "35.0            6         6         0         0       47\n",
              "36.0            7         5         2         0       41\n",
              "37.0            5         5         0         0       34\n",
              "38.0            9         9         0         0       29\n",
              "40.0            3         3         0         0       20\n",
              "41.0           10         9         1         0       17\n",
              "42.0            3         3         0         0        7\n",
              "43.0            2         2         0         0        4\n",
              "44.0            2         2         0         0        2"
            ]
          },
          "metadata": {
            "tags": []
          },
          "execution_count": 25
        }
      ]
    },
    {
      "cell_type": "code",
      "metadata": {
        "id": "UvnCYe-2EG8N",
        "colab": {
          "base_uri": "https://localhost:8080/"
        },
        "outputId": "c55324f1-537a-4b10-bc52-53f0ba2ff072"
      },
      "source": [
        "# Prever a Probabilidade de Sobrevivencia para o mês de outubro para o sexo masculino\n",
        "\n",
        "kmf_masculino.predict(10)"
      ],
      "execution_count": 26,
      "outputs": [
        {
          "output_type": "execute_result",
          "data": {
            "text/plain": [
              "0.5996673046418524"
            ]
          },
          "metadata": {
            "tags": []
          },
          "execution_count": 26
        }
      ]
    },
    {
      "cell_type": "code",
      "metadata": {
        "id": "fk1YMI2AFQ3S",
        "colab": {
          "base_uri": "https://localhost:8080/"
        },
        "outputId": "896182ce-47be-427f-e56a-7e208075056f"
      },
      "source": [
        "# Prever a Probabilidade de Sobrevivencia para o mês de outubro para o sexo feminino\n",
        "kmf_feminino.predict(10)"
      ],
      "execution_count": 27,
      "outputs": [
        {
          "output_type": "execute_result",
          "data": {
            "text/plain": [
              "0.6715424435478354"
            ]
          },
          "metadata": {
            "tags": []
          },
          "execution_count": 27
        }
      ]
    },
    {
      "cell_type": "code",
      "metadata": {
        "id": "YWBYg2fjFkqk"
      },
      "source": [
        "# Probabilidade de sobrevivêcia para o grupo masculino\n",
        "\n",
        "kmf_masculino.survival_function_"
      ],
      "execution_count": null,
      "outputs": []
    },
    {
      "cell_type": "code",
      "metadata": {
        "id": "6cIhlx33Fw9U"
      },
      "source": [
        "# Probabilidade de sobrevivêcia para o grupo feminino\n",
        "\n",
        "kmf_feminino.survival_function_"
      ],
      "execution_count": null,
      "outputs": []
    },
    {
      "cell_type": "code",
      "metadata": {
        "id": "9rejQKbQF43F",
        "colab": {
          "base_uri": "https://localhost:8080/",
          "height": 312
        },
        "outputId": "e808c77c-baeb-4eac-ee8c-cb83bb296579"
      },
      "source": [
        "# Gráfico para a probabilidade de sobrevivência para ambos os sexos\n",
        "\n",
        "# Probabilidade de sobrevivêcia para o grupo masculino\n",
        "\n",
        "kmf_masculino.plot()\n",
        "kmf_feminino.plot()\n",
        "plt.xlabel(\"Tempo\") \n",
        "plt.ylabel(\"Probabilidade de Sobrevivência\") \n",
        "plt.title(\"KMF para ambos os sexos\")"
      ],
      "execution_count": 30,
      "outputs": [
        {
          "output_type": "execute_result",
          "data": {
            "text/plain": [
              "Text(0.5, 1.0, 'KMF para ambos os sexos')"
            ]
          },
          "metadata": {
            "tags": []
          },
          "execution_count": 30
        },
        {
          "output_type": "display_data",
          "data": {
            "image/png": "[encoded data removed]",
            "text/plain": [
              "<Figure size 432x288 with 1 Axes>"
            ]
          },
          "metadata": {
            "tags": [],
            "needs_background": "light"
          }
        }
      ]
    },
    {
      "cell_type": "markdown",
      "metadata": {
        "id": "n98WsBPpHA9N"
      },
      "source": [
        "O teste de log-rank é um teste de hipótese usado para comparar a distribuição de sobrevivência de duas amostras.\n",
        "\n",
        "Objetivo: Nosso objetivo é ver se há alguma diferença significativa entre o sexo masculino e o sexo feminino.\n",
        "\n",
        " \n",
        "Hipótese nula : A hipótese nula afirma que não há diferença significativa entre os grupos em estudo"
      ]
    },
    {
      "cell_type": "code",
      "metadata": {
        "id": "12M0m7whGkE4"
      },
      "source": [
        "# Variaveis para o teste de Log-Rank\n",
        "tempo_masculino = masculino['tempo']\n",
        "evento_masculino = masculino['morto']\n",
        "\n",
        "tempo_feminino = feminino['tempo']\n",
        "evento_feminino = feminino['morto']\n"
      ],
      "execution_count": 32,
      "outputs": []
    },
    {
      "cell_type": "code",
      "metadata": {
        "colab": {
          "base_uri": "https://localhost:8080/",
          "height": 265
        },
        "id": "X7tJ0rP1XtFK",
        "outputId": "c184ed6b-a4e6-43f2-aa84-12f340a467dc"
      },
      "source": [
        "# Execução do Teste de Log-Rank\n",
        "\n",
        "resultado = logrank_test(tempo_feminino, tempo_masculino, event_observerd_feminino =  evento_feminino, event_observerd_masculino = evento_masculino)\n",
        "\n",
        "resultado.print_summary()\n"
      ],
      "execution_count": 35,
      "outputs": [
        {
          "output_type": "display_data",
          "data": {
            "text/latex": "\\begin{tabular}{lrrr}\n\\toprule\n{} &  test\\_statistic &         p &  -log2(p) \\\\\n\\midrule\n0 &        0.463349 &  0.496063 &  1.011404 \\\\\n\\bottomrule\n\\end{tabular}\n",
            "text/html": [
              "<div>\n",
              "<style scoped>\n",
              "    .dataframe tbody tr th:only-of-type {\n",
              "        vertical-align: middle;\n",
              "    }\n",
              "\n",
              "    .dataframe tbody tr th {\n",
              "        vertical-align: top;\n",
              "    }\n",
              "\n",
              "    .dataframe thead th {\n",
              "        text-align: right;\n",
              "    }\n",
              "</style>\n",
              "<table border=\"1\" class=\"dataframe\">\n",
              "  <tbody>\n",
              "    <tr>\n",
              "      <th>t_0</th>\n",
              "      <td>-1</td>\n",
              "    </tr>\n",
              "    <tr>\n",
              "      <th>null_distribution</th>\n",
              "      <td>chi squared</td>\n",
              "    </tr>\n",
              "    <tr>\n",
              "      <th>degrees_of_freedom</th>\n",
              "      <td>1</td>\n",
              "    </tr>\n",
              "    <tr>\n",
              "      <th>event_observerd_feminino</th>\n",
              "      <td>1      1.0\n",
              "3      1.0\n",
              "4      1.0\n",
              "8      1.0\n",
              "10...</td>\n",
              "    </tr>\n",
              "    <tr>\n",
              "      <th>event_observerd_masculino</th>\n",
              "      <td>0      1.0\n",
              "2      1.0\n",
              "5      1.0\n",
              "6      0.0\n",
              "7 ...</td>\n",
              "    </tr>\n",
              "    <tr>\n",
              "      <th>test_name</th>\n",
              "      <td>logrank_test</td>\n",
              "    </tr>\n",
              "  </tbody>\n",
              "</table>\n",
              "</div><table border=\"1\" class=\"dataframe\">\n",
              "  <thead>\n",
              "    <tr style=\"text-align: right;\">\n",
              "      <th></th>\n",
              "      <th>test_statistic</th>\n",
              "      <th>p</th>\n",
              "      <th>-log2(p)</th>\n",
              "    </tr>\n",
              "  </thead>\n",
              "  <tbody>\n",
              "    <tr>\n",
              "      <th>0</th>\n",
              "      <td>0.46</td>\n",
              "      <td>0.50</td>\n",
              "      <td>1.01</td>\n",
              "    </tr>\n",
              "  </tbody>\n",
              "</table>"
            ],
            "text/plain": [
              "<lifelines.StatisticalResult: logrank_test>\n",
              "                      t_0 = -1\n",
              "        null_distribution = chi squared\n",
              "       degrees_of_freedom = 1\n",
              " event_observerd_feminino = 1      1.0\n",
              "3      1.0\n",
              "4      1.0\n",
              "8      1.0\n",
              "10     0.0\n",
              "      ... \n",
              "854    1.0\n",
              "855    1.0\n",
              "857    1.0\n",
              "859    1.0\n",
              "860    1.0\n",
              "Name: morto, Length: 423, dtype: float64\n",
              "event_observerd_masculino = 0      1.0\n",
              "2      1.0\n",
              "5      1.0\n",
              "6      0.0\n",
              "7      1.0\n",
              "      ... \n",
              "848    1.0\n",
              "850    0.0\n",
              "851    1.0\n",
              "856    1.0\n",
              "858    1.0\n",
              "Name: morto, Length: 438, dtype: float64\n",
              "                test_name = logrank_test\n",
              "\n",
              "---\n",
              " test_statistic    p  -log2(p)\n",
              "           0.46 0.50      1.01"
            ]
          },
          "metadata": {
            "tags": []
          }
        }
      ]
    },
    {
      "cell_type": "markdown",
      "metadata": {
        "id": "7uD2H8c5YcJj"
      },
      "source": [
        "Um valor de p entre 0 e 1 denota a significância estatística. Quanto menor o valor de p, mais significativa é a diferença estatística entre os grupos em estudo.\n",
        "\n",
        "Menor que (5% = 0,05) o valor P significa que há uma diferença significativa entre os grupos que comparamos. Podemos dividir nossos grupos com base em sexo, idade, raça, método de tratamento e outros.\n",
        "\n",
        "Como o p-valor é alto, isso faz com que aceitamos a hipótese nula, isso significa que o sexo apresenta função de sobrevivência para ambos os grupos similares, ou seja,podemos dizer que o “sexo” de uma pessoa faz não apresenta uma diferença significativa na probabilidade de sobrevivência.\n",
        "\n"
      ]
    },
    {
      "cell_type": "code",
      "metadata": {
        "colab": {
          "base_uri": "https://localhost:8080/"
        },
        "id": "JT43IyFwX58o",
        "outputId": "223109b1-e04a-4310-b80b-f1bc0b454163"
      },
      "source": [
        "#Printar o p_value\n",
        "\n",
        "print(\"O valor do p-value é:\", resultado.p_value)"
      ],
      "execution_count": 36,
      "outputs": [
        {
          "output_type": "stream",
          "text": [
            "O valor do p-value é: 0.4960630927384202\n"
          ],
          "name": "stdout"
        }
      ]
    }
  ]
}