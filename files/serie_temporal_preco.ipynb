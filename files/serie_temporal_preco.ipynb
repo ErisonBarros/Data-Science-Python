{
  "nbformat": 4,
  "nbformat_minor": 0,
  "metadata": {
    "colab": {
      "name": "serie_temporal_preco.ipynb",
      "provenance": [],
      "collapsed_sections": []
    },
    "kernelspec": {
      "display_name": "Python 3",
      "language": "python",
      "name": "python3"
    },
    "language_info": {
      "codemirror_mode": {
        "name": "ipython",
        "version": 3
      },
      "file_extension": ".py",
      "mimetype": "text/x-python",
      "name": "python",
      "nbconvert_exporter": "python",
      "pygments_lexer": "ipython3",
      "version": "3.8.5"
    }
  },
  "cells": [
    {
      "cell_type": "code",
      "metadata": {
        "id": "1ZaFKU9Dyq2H"
      },
      "source": [
        "# Importe das bibliotecas necessárias\r\n",
        "import pandas as pd\r\n",
        "import numpy as np\r\n",
        "import matplotlib.pyplot as plt\r\n",
        "import matplotlib\r\n",
        "from scipy import stats\r\n",
        "import datetime\r\n",
        "from matplotlib.dates import DateFormatter\r\n",
        "from statsmodels.tsa.stattools import adfuller\r\n",
        "from statsmodels.tsa.stattools import acf,pacf\r\n",
        "from statsmodels.graphics.tsaplots import plot_acf, plot_pacf\r\n",
        "from statsmodels.tsa.seasonal import seasonal_decompose\r\n",
        "from statsmodels.tsa.arima_model import ARIMA\r\n",
        "from datetime import datetime, timedelta\r\n",
        "from pandas import DataFrame\r\n",
        "from statsmodels.tsa.arima_model import ARIMA\r\n",
        "from statsmodels.stats.diagnostic import acorr_ljungbox"
      ],
      "execution_count": 14,
      "outputs": []
    },
    {
      "cell_type": "code",
      "metadata": {
        "id": "i7ylgsEHywOM"
      },
      "source": [
        "# Importar a base de dados\r\n",
        "df = pd.read_csv('preco.csv', header =0, sep = ',', decimal = ',')"
      ],
      "execution_count": 15,
      "outputs": []
    },
    {
      "cell_type": "code",
      "metadata": {
        "id": "tkaImyht1ZgJ"
      },
      "source": [
        "# Colocando loan como um número inteiro\r\n",
        "df['preco'] = df['preco'].astype(np.int32)\r\n",
        "# Colocando a coluna data com formato de data\r\n",
        "df['data'] = pd.to_datetime(df['data'])"
      ],
      "execution_count": 17,
      "outputs": []
    },
    {
      "cell_type": "code",
      "metadata": {
        "id": "WjZC2u4fjUG8"
      },
      "source": [
        "df_treino = df[0:94]\r\n",
        "df_teste = df[95:104]"
      ],
      "execution_count": 18,
      "outputs": []
    },
    {
      "cell_type": "code",
      "metadata": {
        "id": "Yzko6y1qyyiQ"
      },
      "source": [
        "# Análise descritiva\r\n",
        "\r\n",
        "df.head()\r\n",
        "df.describe()\r\n",
        "df.info()"
      ],
      "execution_count": null,
      "outputs": []
    },
    {
      "cell_type": "code",
      "metadata": {
        "id": "4IUV8j-n4i_e"
      },
      "source": [
        "\r\n",
        "# plotar gráfico de consumo de eletricidade\r\n",
        "plt.plot(df.index, df.preco)\r\n",
        "plt.xlabel('data', fontsize = 15)\r\n",
        "plt.ylabel('preco',fontsize = 15)\r\n",
        "plt.grid()"
      ],
      "execution_count": null,
      "outputs": []
    },
    {
      "cell_type": "code",
      "metadata": {
        "colab": {
          "base_uri": "https://localhost:8080/"
        },
        "id": "StLQtchRy8er",
        "outputId": "9ead756e-0216-4d9b-dcf1-c92ee4de9604"
      },
      "source": [
        "# Verificando a Estacionariedade\r\n",
        "\r\n",
        "test_estacionariedade = adfuller(df['preco'])\r\n",
        "output = pd.Series(test_estacionariedade[0:4], index = ['Teste', 'p-valor','Lags','Número de observações usadas'])\r\n",
        "\r\n",
        "for key, value in test_estacionariedade[4].items():\r\n",
        "  output['Valor crítico(%s)' %key] = value\r\n",
        "print(output)"
      ],
      "execution_count": 25,
      "outputs": [
        {
          "output_type": "stream",
          "text": [
            "Teste                           -1.714718\n",
            "p-valor                          0.423546\n",
            "Lags                             1.000000\n",
            "Número de observações usadas    85.000000\n",
            "Valor crítico(1%)               -3.509736\n",
            "Valor crítico(5%)               -2.896195\n",
            "Valor crítico(10%)              -2.585258\n",
            "dtype: float64\n"
          ],
          "name": "stdout"
        }
      ]
    },
    {
      "cell_type": "code",
      "metadata": {
        "id": "kvflfnZLy6HC"
      },
      "source": [
        "# Verificando as funções ACF e PACF\r\n",
        "acf = plot_acf(df['preco'], lags = 20)\r\n",
        "pacf = plot_pacf(df['preco'], lags = 20)"
      ],
      "execution_count": null,
      "outputs": []
    },
    {
      "cell_type": "code",
      "metadata": {
        "id": "0DntGSRQ35YK"
      },
      "source": [
        "# Diferenciações\r\n",
        "primeira_dif = df['preco'].diff()\r\n",
        "\r\n",
        "primeira_dif.plot()"
      ],
      "execution_count": null,
      "outputs": []
    },
    {
      "cell_type": "code",
      "metadata": {
        "id": "M75rXKTy4NkA"
      },
      "source": [
        "# Verificando a estacionariedade da série diferenciada\r\n",
        "test_estacionariedade_dif1 = adfuller(primeira_dif.dropna())\r\n",
        "output_dif = pd.Series(test_estacionariedade_dif1[0:4], index = ['Teste', 'p-valor','Lags','Número de observações usadas'])\r\n",
        "\r\n",
        "for key, value in test_estacionariedade_dif1[4].items():\r\n",
        "  output['Valor crítico(%s)' %key] = value\r\n",
        "print(output_dif)"
      ],
      "execution_count": null,
      "outputs": []
    },
    {
      "cell_type": "code",
      "metadata": {
        "id": "_KEsctxQ7xc6"
      },
      "source": [
        "# Diferenciações\r\n",
        "segunda_dif = primeira_dif.diff()\r\n",
        "\r\n",
        "segunda_dif.plot()"
      ],
      "execution_count": null,
      "outputs": []
    },
    {
      "cell_type": "code",
      "metadata": {
        "id": "liHgXC6T73-a"
      },
      "source": [
        "# Verificando a estacionariedade da série diferenciada\r\n",
        "test_estacionariedade_dif1 = adfuller(segunda_dif.dropna())\r\n",
        "output_dif = pd.Series(test_estacionariedade_dif1[0:4], index = ['Teste', 'p-valor','Lags','Número de observações usadas'])\r\n",
        "\r\n",
        "for key, value in test_estacionariedade_dif1[4].items():\r\n",
        "  output['Valor crítico(%s)' %key] = value\r\n",
        "print(output_dif)"
      ],
      "execution_count": null,
      "outputs": []
    },
    {
      "cell_type": "code",
      "metadata": {
        "id": "nFqidHhfeUN6"
      },
      "source": [
        "# Modelo Arima\n",
        "model = ARIMA(df['preco'], order=(1,2,1))\n",
        "\n",
        "model_fit = model.fit()"
      ],
      "execution_count": 38,
      "outputs": []
    },
    {
      "cell_type": "code",
      "metadata": {
        "id": "tCjNynYpeUN7",
        "colab": {
          "base_uri": "https://localhost:8080/"
        },
        "outputId": "4a2ca384-eb83-4978-ca51-26f21eea67b5"
      },
      "source": [
        "print(model_fit.summary())"
      ],
      "execution_count": 39,
      "outputs": [
        {
          "output_type": "stream",
          "text": [
            "                             ARIMA Model Results                              \n",
            "==============================================================================\n",
            "Dep. Variable:               D2.preco   No. Observations:                   85\n",
            "Model:                 ARIMA(1, 2, 1)   Log Likelihood                -245.209\n",
            "Method:                       css-mle   S.D. of innovations              4.241\n",
            "Date:                Mon, 01 Feb 2021   AIC                            498.418\n",
            "Time:                        00:13:37   BIC                            508.188\n",
            "Sample:                             2   HQIC                           502.348\n",
            "                                                                              \n",
            "==================================================================================\n",
            "                     coef    std err          z      P>|z|      [0.025      0.975]\n",
            "----------------------------------------------------------------------------------\n",
            "const             -0.0070      0.031     -0.222      0.825      -0.068       0.054\n",
            "ar.L1.D2.preco     0.4164      0.112      3.723      0.000       0.197       0.636\n",
            "ma.L1.D2.preco    -1.0000      0.050    -20.038      0.000      -1.098      -0.902\n",
            "                                    Roots                                    \n",
            "=============================================================================\n",
            "                  Real          Imaginary           Modulus         Frequency\n",
            "-----------------------------------------------------------------------------\n",
            "AR.1            2.4017           +0.0000j            2.4017            0.0000\n",
            "MA.1            1.0000           +0.0000j            1.0000            0.0000\n",
            "-----------------------------------------------------------------------------\n"
          ],
          "name": "stdout"
        }
      ]
    },
    {
      "cell_type": "code",
      "metadata": {
        "colab": {
          "base_uri": "https://localhost:8080/",
          "height": 283
        },
        "id": "qJ40Lkv75avS",
        "outputId": "5b7653eb-af45-4753-9a6c-2c83885456ac"
      },
      "source": [
        "\r\n",
        "plt.plot(segunda_dif)\r\n",
        "\r\n",
        "\r\n",
        "print('Plotting AR model')"
      ],
      "execution_count": 40,
      "outputs": [
        {
          "output_type": "stream",
          "text": [
            "Plotting AR model\n"
          ],
          "name": "stdout"
        },
        {
          "output_type": "display_data",
          "data": {
            "image/png": "[encoded data removed]",
            "text/plain": [
              "<Figure size 432x288 with 1 Axes>"
            ]
          },
          "metadata": {
            "tags": [],
            "needs_background": "light"
          }
        }
      ]
    },
    {
      "cell_type": "code",
      "metadata": {
        "colab": {
          "base_uri": "https://localhost:8080/"
        },
        "id": "S8fwBuNfeUN9",
        "outputId": "45a784a3-be4a-428e-dc5a-4d6615a567d0"
      },
      "source": [
        "# Teste para verificar o modelo\r\n",
        "\r\n",
        "acorr_ljungbox(model_fit.resid, lags=[10], boxpierce= False)"
      ],
      "execution_count": 41,
      "outputs": [
        {
          "output_type": "execute_result",
          "data": {
            "text/plain": [
              "(array([5.29566206]), array([0.87057282]))"
            ]
          },
          "metadata": {
            "tags": []
          },
          "execution_count": 41
        }
      ]
    },
    {
      "cell_type": "code",
      "metadata": {
        "id": "uEXt-R-V1ajm"
      },
      "source": [
        ""
      ],
      "execution_count": 12,
      "outputs": []
    }
  ]
}